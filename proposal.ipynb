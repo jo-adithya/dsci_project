{
 "cells": [
  {
   "cell_type": "markdown",
   "metadata": {},
   "source": [
    "# **Predicting Rankings of Tennis Players: The 2018 ATP Tour**"
   ]
  },
  {
   "cell_type": "markdown",
   "metadata": {},
   "source": [
    "<br>\n",
    "\n",
    "# **Introduction**"
   ]
  },
  {
   "cell_type": "markdown",
   "metadata": {},
   "source": [
<<<<<<< HEAD
    "By using the data set of games won by a tennis player, we are able to use several categorical variables to predict and classify the future ranking of a particular tennis player based on these attributes. This leads to the question, how well do variables relating to player status, age, current rank, and playing hand predict, and game statistics the future ranking of the player during later tennis seasons? The dataset used to answer this question will be the game results for the top 500 players during the 2018 tennis season. This particular data was chosen to avoid interruptions by the COVID-19 pandemic and to ensure that the data would be stagnant, with no new data incoming. The dataset includes data from the winners of rounds of national and international tennis tournaments, hosted by the Association of Tennis Professionals (ATP)."
=======
    "By using the data set of games won by a tennis player, we are able to use several categorical variables to predict and classify the future ranking of a particular tennis player based on these attributes. This leads to the question, how well do variables relating to player status, age, current rank, and playing hand predict, and game statistics the future ranking of the player during later tennis seasons? The dataset used to answer this question will be the game results for the top 500 players during the 2018 tennis season. This particular data was chosen to avoid interruptions by the COVID-19 pandemic and to ensure that the data would be stagnant, with no new data incoming. The dataset includes data from the winners of the rounds of national and international tennis tournaments, hosted by the Association of Tennis Professionals (ATP)."
>>>>>>> 57e73097c9700ae32e55020a719470a4b3027735
   ]
  },
  {
   "cell_type": "markdown",
   "metadata": {},
   "source": [
    "<br>\n",
    "\n",
    "# **Preliminary Exploratory Data Analysis**"
   ]
  },
  {
   "cell_type": "markdown",
   "metadata": {},
   "source": [
    "### **Importing Libraries**"
   ]
  },
  {
   "cell_type": "code",
<<<<<<< HEAD
   "execution_count": 18,
   "metadata": {},
   "outputs": [],
=======
   "execution_count": 2,
   "metadata": {},
   "outputs": [
    {
     "name": "stderr",
     "output_type": "stream",
     "text": [
      "── \u001b[1mAttaching packages\u001b[22m ─────────────────────────────────────── tidyverse 1.3.0 ──\n",
      "\n",
      "\u001b[32m✔\u001b[39m \u001b[34mggplot2\u001b[39m 3.3.2     \u001b[32m✔\u001b[39m \u001b[34mpurrr  \u001b[39m 0.3.4\n",
      "\u001b[32m✔\u001b[39m \u001b[34mtibble \u001b[39m 3.0.3     \u001b[32m✔\u001b[39m \u001b[34mdplyr  \u001b[39m 1.0.2\n",
      "\u001b[32m✔\u001b[39m \u001b[34mtidyr  \u001b[39m 1.1.2     \u001b[32m✔\u001b[39m \u001b[34mstringr\u001b[39m 1.4.0\n",
      "\u001b[32m✔\u001b[39m \u001b[34mreadr  \u001b[39m 1.3.1     \u001b[32m✔\u001b[39m \u001b[34mforcats\u001b[39m 0.5.0\n",
      "\n",
      "Warning message:\n",
      "“package ‘ggplot2’ was built under R version 4.0.1”\n",
      "Warning message:\n",
      "“package ‘tibble’ was built under R version 4.0.2”\n",
      "Warning message:\n",
      "“package ‘tidyr’ was built under R version 4.0.2”\n",
      "Warning message:\n",
      "“package ‘dplyr’ was built under R version 4.0.2”\n",
      "── \u001b[1mConflicts\u001b[22m ────────────────────────────────────────── tidyverse_conflicts() ──\n",
      "\u001b[31m✖\u001b[39m \u001b[34mdplyr\u001b[39m::\u001b[32mfilter()\u001b[39m masks \u001b[34mstats\u001b[39m::filter()\n",
      "\u001b[31m✖\u001b[39m \u001b[34mdplyr\u001b[39m::\u001b[32mlag()\u001b[39m    masks \u001b[34mstats\u001b[39m::lag()\n",
      "\n",
      "Warning message:\n",
      "“package ‘tidymodels’ was built under R version 4.0.2”\n",
      "── \u001b[1mAttaching packages\u001b[22m ────────────────────────────────────── tidymodels 0.1.1 ──\n",
      "\n",
      "\u001b[32m✔\u001b[39m \u001b[34mbroom    \u001b[39m 0.7.0      \u001b[32m✔\u001b[39m \u001b[34mrecipes  \u001b[39m 0.1.13\n",
      "\u001b[32m✔\u001b[39m \u001b[34mdials    \u001b[39m 0.0.9      \u001b[32m✔\u001b[39m \u001b[34mrsample  \u001b[39m 0.0.7 \n",
      "\u001b[32m✔\u001b[39m \u001b[34minfer    \u001b[39m 0.5.4      \u001b[32m✔\u001b[39m \u001b[34mtune     \u001b[39m 0.1.1 \n",
      "\u001b[32m✔\u001b[39m \u001b[34mmodeldata\u001b[39m 0.0.2      \u001b[32m✔\u001b[39m \u001b[34mworkflows\u001b[39m 0.2.0 \n",
      "\u001b[32m✔\u001b[39m \u001b[34mparsnip  \u001b[39m 0.1.3      \u001b[32m✔\u001b[39m \u001b[34myardstick\u001b[39m 0.0.7 \n",
      "\n",
      "Warning message:\n",
      "“package ‘broom’ was built under R version 4.0.2”\n",
      "Warning message:\n",
      "“package ‘dials’ was built under R version 4.0.2”\n",
      "Warning message:\n",
      "“package ‘infer’ was built under R version 4.0.3”\n",
      "Warning message:\n",
      "“package ‘modeldata’ was built under R version 4.0.1”\n",
      "Warning message:\n",
      "“package ‘parsnip’ was built under R version 4.0.2”\n",
      "Warning message:\n",
      "“package ‘recipes’ was built under R version 4.0.1”\n",
      "Warning message:\n",
      "“package ‘tune’ was built under R version 4.0.2”\n",
      "Warning message:\n",
      "“package ‘workflows’ was built under R version 4.0.2”\n",
      "Warning message:\n",
      "“package ‘yardstick’ was built under R version 4.0.2”\n",
      "── \u001b[1mConflicts\u001b[22m ───────────────────────────────────────── tidymodels_conflicts() ──\n",
      "\u001b[31m✖\u001b[39m \u001b[34mscales\u001b[39m::\u001b[32mdiscard()\u001b[39m masks \u001b[34mpurrr\u001b[39m::discard()\n",
      "\u001b[31m✖\u001b[39m \u001b[34mdplyr\u001b[39m::\u001b[32mfilter()\u001b[39m   masks \u001b[34mstats\u001b[39m::filter()\n",
      "\u001b[31m✖\u001b[39m \u001b[34mrecipes\u001b[39m::\u001b[32mfixed()\u001b[39m  masks \u001b[34mstringr\u001b[39m::fixed()\n",
      "\u001b[31m✖\u001b[39m \u001b[34mdplyr\u001b[39m::\u001b[32mlag()\u001b[39m      masks \u001b[34mstats\u001b[39m::lag()\n",
      "\u001b[31m✖\u001b[39m \u001b[34myardstick\u001b[39m::\u001b[32mspec()\u001b[39m masks \u001b[34mreadr\u001b[39m::spec()\n",
      "\u001b[31m✖\u001b[39m \u001b[34mrecipes\u001b[39m::\u001b[32mstep()\u001b[39m   masks \u001b[34mstats\u001b[39m::step()\n",
      "\n"
     ]
    }
   ],
>>>>>>> 57e73097c9700ae32e55020a719470a4b3027735
   "source": [
    "library(tidyverse)\n",
    "library(tidymodels)\n",
    "library(repr)\n",
    "\n",
    "options(repr.matrix.max.rows = 6)"
   ]
  },
  {
   "cell_type": "markdown",
   "metadata": {},
   "source": [
    "### **Download the Tennis Dataset**"
   ]
  },
  {
   "cell_type": "code",
   "execution_count": 3,
   "metadata": {},
   "outputs": [],
   "source": [
    "url <- \"https://drive.google.com/uc?export=download&id=1fOQ8sy_qMkQiQEAO6uFdRX4tLI8EpSTn\"\n",
    "download.file(url, \"data/data.csv\")"
   ]
  },
  {
   "cell_type": "markdown",
   "metadata": {},
   "source": [
    "### **Load the Tennis Dataset**"
   ]
  },
  {
   "cell_type": "code",
<<<<<<< HEAD
   "execution_count": 19,
=======
   "execution_count": 4,
>>>>>>> 57e73097c9700ae32e55020a719470a4b3027735
   "metadata": {},
   "outputs": [
    {
     "name": "stderr",
     "output_type": "stream",
     "text": [
      "Warning message:\n",
      "“Missing column names filled in: 'X1' [1]”\n",
      "Parsed with column specification:\n",
      "cols(\n",
      "  .default = col_double(),\n",
      "  tourney_id = \u001b[31mcol_character()\u001b[39m,\n",
      "  tourney_name = \u001b[31mcol_character()\u001b[39m,\n",
      "  surface = \u001b[31mcol_character()\u001b[39m,\n",
      "  tourney_level = \u001b[31mcol_character()\u001b[39m,\n",
      "  winner_seed = \u001b[31mcol_character()\u001b[39m,\n",
      "  winner_entry = \u001b[31mcol_character()\u001b[39m,\n",
      "  winner_name = \u001b[31mcol_character()\u001b[39m,\n",
      "  winner_hand = \u001b[31mcol_character()\u001b[39m,\n",
      "  winner_ioc = \u001b[31mcol_character()\u001b[39m,\n",
      "  loser_seed = \u001b[31mcol_character()\u001b[39m,\n",
      "  loser_entry = \u001b[31mcol_character()\u001b[39m,\n",
      "  loser_name = \u001b[31mcol_character()\u001b[39m,\n",
      "  loser_hand = \u001b[31mcol_character()\u001b[39m,\n",
      "  loser_ioc = \u001b[31mcol_character()\u001b[39m,\n",
      "  score = \u001b[31mcol_character()\u001b[39m,\n",
      "  round = \u001b[31mcol_character()\u001b[39m\n",
      ")\n",
      "\n",
      "See spec(...) for full column specifications.\n",
      "\n"
     ]
    }
   ],
   "source": [
    "tennis <- read_csv(\"data/data.csv\")"
   ]
  },
  {
   "cell_type": "markdown",
   "metadata": {},
   "source": [
    "### **Reading and Understanding Data**"
   ]
  },
  {
   "cell_type": "code",
   "execution_count": 20,
   "metadata": {},
   "outputs": [
    {
     "data": {
      "text/html": [
       "<table>\n",
       "<caption>A tibble: 6 × 50</caption>\n",
       "<thead>\n",
       "\t<tr><th scope=col>X1</th><th scope=col>tourney_id</th><th scope=col>tourney_name</th><th scope=col>surface</th><th scope=col>draw_size</th><th scope=col>tourney_level</th><th scope=col>tourney_date</th><th scope=col>match_num</th><th scope=col>winner_id</th><th scope=col>winner_seed</th><th scope=col>⋯</th><th scope=col>l_1stIn</th><th scope=col>l_1stWon</th><th scope=col>l_2ndWon</th><th scope=col>l_SvGms</th><th scope=col>l_bpSaved</th><th scope=col>l_bpFaced</th><th scope=col>winner_rank</th><th scope=col>winner_rank_points</th><th scope=col>loser_rank</th><th scope=col>loser_rank_points</th></tr>\n",
       "\t<tr><th scope=col>&lt;dbl&gt;</th><th scope=col>&lt;chr&gt;</th><th scope=col>&lt;chr&gt;</th><th scope=col>&lt;chr&gt;</th><th scope=col>&lt;dbl&gt;</th><th scope=col>&lt;chr&gt;</th><th scope=col>&lt;dbl&gt;</th><th scope=col>&lt;dbl&gt;</th><th scope=col>&lt;dbl&gt;</th><th scope=col>&lt;chr&gt;</th><th scope=col>⋯</th><th scope=col>&lt;dbl&gt;</th><th scope=col>&lt;dbl&gt;</th><th scope=col>&lt;dbl&gt;</th><th scope=col>&lt;dbl&gt;</th><th scope=col>&lt;dbl&gt;</th><th scope=col>&lt;dbl&gt;</th><th scope=col>&lt;dbl&gt;</th><th scope=col>&lt;dbl&gt;</th><th scope=col>&lt;dbl&gt;</th><th scope=col>&lt;dbl&gt;</th></tr>\n",
       "</thead>\n",
       "<tbody>\n",
       "\t<tr><td>0</td><td>2019-M020</td><td>Brisbane</td><td>Hard</td><td>32</td><td>A</td><td>20181231</td><td>300</td><td>105453</td><td>2 </td><td>⋯</td><td>54</td><td>34</td><td>20</td><td>14</td><td>10</td><td>15</td><td>  9</td><td>3590</td><td> 16</td><td>1977</td></tr>\n",
       "\t<tr><td>1</td><td>2019-M020</td><td>Brisbane</td><td>Hard</td><td>32</td><td>A</td><td>20181231</td><td>299</td><td>106421</td><td>4 </td><td>⋯</td><td>52</td><td>36</td><td> 7</td><td>10</td><td>10</td><td>13</td><td> 16</td><td>1977</td><td>239</td><td> 200</td></tr>\n",
       "\t<tr><td>2</td><td>2019-M020</td><td>Brisbane</td><td>Hard</td><td>32</td><td>A</td><td>20181231</td><td>298</td><td>105453</td><td>2 </td><td>⋯</td><td>27</td><td>15</td><td> 6</td><td> 8</td><td> 1</td><td> 5</td><td>  9</td><td>3590</td><td> 40</td><td>1050</td></tr>\n",
       "\t<tr><td>3</td><td>2019-M020</td><td>Brisbane</td><td>Hard</td><td>32</td><td>A</td><td>20181231</td><td>297</td><td>104542</td><td>NA</td><td>⋯</td><td>60</td><td>38</td><td> 9</td><td>11</td><td> 4</td><td> 6</td><td>239</td><td> 200</td><td> 31</td><td>1298</td></tr>\n",
       "\t<tr><td>4</td><td>2019-M020</td><td>Brisbane</td><td>Hard</td><td>32</td><td>A</td><td>20181231</td><td>296</td><td>106421</td><td>4 </td><td>⋯</td><td>56</td><td>46</td><td>19</td><td>15</td><td> 2</td><td> 4</td><td> 16</td><td>1977</td><td> 18</td><td>1855</td></tr>\n",
       "\t<tr><td>5</td><td>2019-M020</td><td>Brisbane</td><td>Hard</td><td>32</td><td>A</td><td>20181231</td><td>295</td><td>104871</td><td>NA</td><td>⋯</td><td>54</td><td>40</td><td>18</td><td>15</td><td> 6</td><td> 9</td><td> 40</td><td>1050</td><td>185</td><td> 275</td></tr>\n",
       "</tbody>\n",
       "</table>\n"
      ],
      "text/latex": [
       "A tibble: 6 × 50\n",
       "\\begin{tabular}{lllllllllllllllllllll}\n",
       " X1 & tourney\\_id & tourney\\_name & surface & draw\\_size & tourney\\_level & tourney\\_date & match\\_num & winner\\_id & winner\\_seed & ⋯ & l\\_1stIn & l\\_1stWon & l\\_2ndWon & l\\_SvGms & l\\_bpSaved & l\\_bpFaced & winner\\_rank & winner\\_rank\\_points & loser\\_rank & loser\\_rank\\_points\\\\\n",
       " <dbl> & <chr> & <chr> & <chr> & <dbl> & <chr> & <dbl> & <dbl> & <dbl> & <chr> & ⋯ & <dbl> & <dbl> & <dbl> & <dbl> & <dbl> & <dbl> & <dbl> & <dbl> & <dbl> & <dbl>\\\\\n",
       "\\hline\n",
       "\t 0 & 2019-M020 & Brisbane & Hard & 32 & A & 20181231 & 300 & 105453 & 2  & ⋯ & 54 & 34 & 20 & 14 & 10 & 15 &   9 & 3590 &  16 & 1977\\\\\n",
       "\t 1 & 2019-M020 & Brisbane & Hard & 32 & A & 20181231 & 299 & 106421 & 4  & ⋯ & 52 & 36 &  7 & 10 & 10 & 13 &  16 & 1977 & 239 &  200\\\\\n",
       "\t 2 & 2019-M020 & Brisbane & Hard & 32 & A & 20181231 & 298 & 105453 & 2  & ⋯ & 27 & 15 &  6 &  8 &  1 &  5 &   9 & 3590 &  40 & 1050\\\\\n",
       "\t 3 & 2019-M020 & Brisbane & Hard & 32 & A & 20181231 & 297 & 104542 & NA & ⋯ & 60 & 38 &  9 & 11 &  4 &  6 & 239 &  200 &  31 & 1298\\\\\n",
       "\t 4 & 2019-M020 & Brisbane & Hard & 32 & A & 20181231 & 296 & 106421 & 4  & ⋯ & 56 & 46 & 19 & 15 &  2 &  4 &  16 & 1977 &  18 & 1855\\\\\n",
       "\t 5 & 2019-M020 & Brisbane & Hard & 32 & A & 20181231 & 295 & 104871 & NA & ⋯ & 54 & 40 & 18 & 15 &  6 &  9 &  40 & 1050 & 185 &  275\\\\\n",
       "\\end{tabular}\n"
      ],
      "text/markdown": [
       "\n",
       "A tibble: 6 × 50\n",
       "\n",
       "| X1 &lt;dbl&gt; | tourney_id &lt;chr&gt; | tourney_name &lt;chr&gt; | surface &lt;chr&gt; | draw_size &lt;dbl&gt; | tourney_level &lt;chr&gt; | tourney_date &lt;dbl&gt; | match_num &lt;dbl&gt; | winner_id &lt;dbl&gt; | winner_seed &lt;chr&gt; | ⋯ ⋯ | l_1stIn &lt;dbl&gt; | l_1stWon &lt;dbl&gt; | l_2ndWon &lt;dbl&gt; | l_SvGms &lt;dbl&gt; | l_bpSaved &lt;dbl&gt; | l_bpFaced &lt;dbl&gt; | winner_rank &lt;dbl&gt; | winner_rank_points &lt;dbl&gt; | loser_rank &lt;dbl&gt; | loser_rank_points &lt;dbl&gt; |\n",
       "|---|---|---|---|---|---|---|---|---|---|---|---|---|---|---|---|---|---|---|---|---|\n",
       "| 0 | 2019-M020 | Brisbane | Hard | 32 | A | 20181231 | 300 | 105453 | 2  | ⋯ | 54 | 34 | 20 | 14 | 10 | 15 |   9 | 3590 |  16 | 1977 |\n",
       "| 1 | 2019-M020 | Brisbane | Hard | 32 | A | 20181231 | 299 | 106421 | 4  | ⋯ | 52 | 36 |  7 | 10 | 10 | 13 |  16 | 1977 | 239 |  200 |\n",
       "| 2 | 2019-M020 | Brisbane | Hard | 32 | A | 20181231 | 298 | 105453 | 2  | ⋯ | 27 | 15 |  6 |  8 |  1 |  5 |   9 | 3590 |  40 | 1050 |\n",
       "| 3 | 2019-M020 | Brisbane | Hard | 32 | A | 20181231 | 297 | 104542 | NA | ⋯ | 60 | 38 |  9 | 11 |  4 |  6 | 239 |  200 |  31 | 1298 |\n",
       "| 4 | 2019-M020 | Brisbane | Hard | 32 | A | 20181231 | 296 | 106421 | 4  | ⋯ | 56 | 46 | 19 | 15 |  2 |  4 |  16 | 1977 |  18 | 1855 |\n",
       "| 5 | 2019-M020 | Brisbane | Hard | 32 | A | 20181231 | 295 | 104871 | NA | ⋯ | 54 | 40 | 18 | 15 |  6 |  9 |  40 | 1050 | 185 |  275 |\n",
       "\n"
      ],
      "text/plain": [
       "  X1 tourney_id tourney_name surface draw_size tourney_level tourney_date\n",
       "1 0  2019-M020  Brisbane     Hard    32        A             20181231    \n",
       "2 1  2019-M020  Brisbane     Hard    32        A             20181231    \n",
       "3 2  2019-M020  Brisbane     Hard    32        A             20181231    \n",
       "4 3  2019-M020  Brisbane     Hard    32        A             20181231    \n",
       "5 4  2019-M020  Brisbane     Hard    32        A             20181231    \n",
       "6 5  2019-M020  Brisbane     Hard    32        A             20181231    \n",
       "  match_num winner_id winner_seed ⋯ l_1stIn l_1stWon l_2ndWon l_SvGms l_bpSaved\n",
       "1 300       105453    2           ⋯ 54      34       20       14      10       \n",
       "2 299       106421    4           ⋯ 52      36        7       10      10       \n",
       "3 298       105453    2           ⋯ 27      15        6        8       1       \n",
       "4 297       104542    NA          ⋯ 60      38        9       11       4       \n",
       "5 296       106421    4           ⋯ 56      46       19       15       2       \n",
       "6 295       104871    NA          ⋯ 54      40       18       15       6       \n",
       "  l_bpFaced winner_rank winner_rank_points loser_rank loser_rank_points\n",
       "1 15          9         3590                16        1977             \n",
       "2 13         16         1977               239         200             \n",
       "3  5          9         3590                40        1050             \n",
       "4  6        239          200                31        1298             \n",
       "5  4         16         1977                18        1855             \n",
       "6  9         40         1050               185         275             "
      ]
     },
     "metadata": {},
     "output_type": "display_data"
    }
   ],
   "source": [
    "# Previewing top 5 data of the dataset\n",
    "head(tennis)"
   ]
  },
  {
   "cell_type": "code",
   "execution_count": 21,
   "metadata": {},
   "outputs": [
    {
     "data": {
      "text/html": [
       "<style>\n",
       ".list-inline {list-style: none; margin:0; padding: 0}\n",
       ".list-inline>li {display: inline-block}\n",
       ".list-inline>li:not(:last-child)::after {content: \"\\00b7\"; padding: 0 .5ex}\n",
       "</style>\n",
       "<ol class=list-inline><li>6866</li><li>50</li></ol>\n"
      ],
      "text/latex": [
       "\\begin{enumerate*}\n",
       "\\item 6866\n",
       "\\item 50\n",
       "\\end{enumerate*}\n"
      ],
      "text/markdown": [
       "1. 6866\n",
       "2. 50\n",
       "\n",
       "\n"
      ],
      "text/plain": [
       "[1] 6866   50"
      ]
     },
     "metadata": {},
     "output_type": "display_data"
    }
   ],
   "source": [
    "# Shape of the dataset\n",
    "dim(tennis)"
   ]
  },
  {
   "cell_type": "code",
   "execution_count": 23,
   "metadata": {},
   "outputs": [
    {
     "data": {
      "text/plain": [
       "       X1          tourney_id        tourney_name         surface         \n",
       " Min.   :   0.0   Length:6866        Length:6866        Length:6866       \n",
       " 1st Qu.: 775.2   Class :character   Class :character   Class :character  \n",
       " Median :1485.5   Mode  :character   Mode  :character   Mode  :character  \n",
       " Mean   :1466.4                                                           \n",
       " 3rd Qu.:2169.8                                                           \n",
       " Max.   :2888.0                                                           \n",
       "                                                                          \n",
       "   draw_size      tourney_level       tourney_date        match_num     \n",
       " Min.   :  4.00   Length:6866        Min.   :20170102   Min.   :   1.0  \n",
       " 1st Qu.: 32.00   Class :character   1st Qu.:20171002   1st Qu.: 243.0  \n",
       " Median : 32.00   Mode  :character   Median :20180716   Median : 278.0  \n",
       " Mean   : 60.72                      Mean   :20181355   Mean   : 264.6  \n",
       " 3rd Qu.:128.00                      3rd Qu.:20190415   3rd Qu.: 291.0  \n",
       " Max.   :128.00                      Max.   :20191124   Max.   :1701.0  \n",
       "                                                                        \n",
       "   winner_id      winner_seed        winner_entry       winner_name       \n",
       " Min.   :100644   Length:6866        Length:6866        Length:6866       \n",
       " 1st Qu.:104918   Class :character   Class :character   Class :character  \n",
       " Median :105526   Mode  :character   Mode  :character   Mode  :character  \n",
       " Mean   :110211                                                           \n",
       " 3rd Qu.:106298                                                           \n",
       " Max.   :206173                                                           \n",
       "                                                                          \n",
       " winner_hand          winner_ht      winner_ioc          winner_age   \n",
       " Length:6866        Min.   :163.0   Length:6866        Min.   :17.57  \n",
       " Class :character   1st Qu.:183.0   Class :character   1st Qu.:23.84  \n",
       " Mode  :character   Median :185.0   Mode  :character   Median :28.07  \n",
       "                    Mean   :186.5                      Mean   :27.68  \n",
       "                    3rd Qu.:190.0                      3rd Qu.:31.08  \n",
       "                    Max.   :208.0                      Max.   :40.62  \n",
       "                    NA's   :2196                                      \n",
       "    loser_id       loser_seed        loser_entry         loser_name       \n",
       " Min.   :100644   Length:6866        Length:6866        Length:6866       \n",
       " 1st Qu.:104999   Class :character   Class :character   Class :character  \n",
       " Median :105583   Mode  :character   Mode  :character   Mode  :character  \n",
       " Mean   :111040                                                           \n",
       " 3rd Qu.:106378                                                           \n",
       " Max.   :206703                                                           \n",
       "                                                                          \n",
       "  loser_hand           loser_ht      loser_ioc           loser_age    \n",
       " Length:6866        Min.   :163.0   Length:6866        Min.   :16.74  \n",
       " Class :character   1st Qu.:183.0   Class :character   1st Qu.:23.89  \n",
       " Mode  :character   Median :185.0   Mode  :character   Median :27.72  \n",
       "                    Mean   :186.2                      Mean   :27.50  \n",
       "                    3rd Qu.:190.0                      3rd Qu.:30.70  \n",
       "                    Max.   :208.0                      Max.   :40.62  \n",
       "                    NA's   :2718                                      \n",
       "    score              best_of         round              minutes     \n",
       " Length:6866        Min.   :3.000   Length:6866        Min.   :  8.0  \n",
       " Class :character   1st Qu.:3.000   Class :character   1st Qu.: 79.0  \n",
       " Mode  :character   Median :3.000   Mode  :character   Median :103.5  \n",
       "                    Mean   :3.402                      Mean   :110.7  \n",
       "                    3rd Qu.:3.000                      3rd Qu.:134.0  \n",
       "                    Max.   :5.000                      Max.   :987.0  \n",
       "                                                       NA's   :116    \n",
       "     w_ace             w_df            w_svpt          w_1stIn     \n",
       " Min.   : 0.000   Min.   : 0.000   Min.   :  0.00   Min.   :  0.0  \n",
       " 1st Qu.: 3.000   1st Qu.: 1.000   1st Qu.: 58.00   1st Qu.: 36.0  \n",
       " Median : 6.000   Median : 2.000   Median : 75.00   Median : 46.0  \n",
       " Mean   : 7.389   Mean   : 2.774   Mean   : 79.84   Mean   : 49.8  \n",
       " 3rd Qu.:10.000   3rd Qu.: 4.000   3rd Qu.: 96.00   3rd Qu.: 60.0  \n",
       " Max.   :64.000   Max.   :26.000   Max.   :278.00   Max.   :198.0  \n",
       " NA's   :85       NA's   :85       NA's   :85       NA's   :85     \n",
       "    w_1stWon         w_2ndWon        w_SvGms        w_bpSaved     \n",
       " Min.   :  0.00   Min.   : 0.00   Min.   : 0.00   Min.   : 0.000  \n",
       " 1st Qu.: 28.00   1st Qu.:12.00   1st Qu.:10.00   1st Qu.: 1.000  \n",
       " Median : 35.00   Median :16.00   Median :12.00   Median : 3.000  \n",
       " Mean   : 37.94   Mean   :16.67   Mean   :12.88   Mean   : 3.419  \n",
       " 3rd Qu.: 45.00   3rd Qu.:20.00   3rd Qu.:15.00   3rd Qu.: 5.000  \n",
       " Max.   :166.00   Max.   :56.00   Max.   :49.00   Max.   :20.000  \n",
       " NA's   :85       NA's   :85      NA's   :85      NA's   :85      \n",
       "   w_bpFaced          l_ace             l_df            l_svpt      \n",
       " Min.   : 0.000   Min.   : 0.000   Min.   : 0.000   Min.   :  2.00  \n",
       " 1st Qu.: 2.000   1st Qu.: 2.000   1st Qu.: 2.000   1st Qu.: 61.00  \n",
       " Median : 4.000   Median : 4.000   Median : 3.000   Median : 78.00  \n",
       " Mean   : 4.947   Mean   : 5.713   Mean   : 3.414   Mean   : 83.08  \n",
       " 3rd Qu.: 7.000   3rd Qu.: 8.000   3rd Qu.: 5.000   3rd Qu.: 99.00  \n",
       " Max.   :25.000   Max.   :67.000   Max.   :21.000   Max.   :291.00  \n",
       " NA's   :85       NA's   :85       NA's   :85       NA's   :85      \n",
       "    l_1stIn          l_1stWon         l_2ndWon        l_SvGms     \n",
       " Min.   :  0.00   Min.   :  0.00   Min.   : 0.00   Min.   : 0.00  \n",
       " 1st Qu.: 36.00   1st Qu.: 24.00   1st Qu.:10.00   1st Qu.: 9.00  \n",
       " Median : 47.00   Median : 32.00   Median :14.00   Median :12.00  \n",
       " Mean   : 50.47   Mean   : 34.12   Mean   :15.17   Mean   :12.64  \n",
       " 3rd Qu.: 61.00   3rd Qu.: 42.00   3rd Qu.:19.00   3rd Qu.:15.00  \n",
       " Max.   :218.00   Max.   :171.00   Max.   :49.00   Max.   :50.00  \n",
       " NA's   :85       NA's   :85       NA's   :85      NA's   :85     \n",
       "   l_bpSaved        l_bpFaced       winner_rank     winner_rank_points\n",
       " Min.   : 0.000   Min.   : 0.000   Min.   :  1.00   Min.   :    7     \n",
       " 1st Qu.: 2.000   1st Qu.: 5.000   1st Qu.: 18.00   1st Qu.:  706     \n",
       " Median : 4.000   Median : 8.000   Median : 43.00   Median : 1050     \n",
       " Mean   : 4.785   Mean   : 8.505   Mean   : 58.64   Mean   : 1799     \n",
       " 3rd Qu.: 7.000   3rd Qu.:11.000   3rd Qu.: 77.00   3rd Qu.: 2020     \n",
       " Max.   :24.000   Max.   :30.000   Max.   :832.00   Max.   :12560     \n",
       " NA's   :85       NA's   :85       NA's   :3        NA's   :3         \n",
       "   loser_rank      loser_rank_points\n",
       " Min.   :   1.00   Min.   :    1    \n",
       " 1st Qu.:  34.00   1st Qu.:  564    \n",
       " Median :  62.00   Median :  842    \n",
       " Mean   :  84.59   Mean   : 1146    \n",
       " 3rd Qu.: 101.00   3rd Qu.: 1255    \n",
       " Max.   :1821.00   Max.   :12560    \n",
       " NA's   :9         NA's   :9        "
      ]
     },
     "metadata": {},
     "output_type": "display_data"
    }
   ],
   "source": [
    "# Examine the dataset\n",
    "summary(tennis)"
   ]
  },
  {
   "cell_type": "code",
   "execution_count": 24,
   "metadata": {},
   "outputs": [
    {
     "data": {
      "text/html": [
       "<style>\n",
       ".list-inline {list-style: none; margin:0; padding: 0}\n",
       ".list-inline>li {display: inline-block}\n",
       ".list-inline>li:not(:last-child)::after {content: \"\\00b7\"; padding: 0 .5ex}\n",
       "</style>\n",
       "<ol class=list-inline><li>'X1'</li><li>'tourney_id'</li><li>'tourney_name'</li><li>'surface'</li><li>'draw_size'</li><li>'tourney_level'</li><li>'tourney_date'</li><li>'match_num'</li><li>'winner_id'</li><li>'winner_seed'</li><li>'winner_entry'</li><li>'winner_name'</li><li>'winner_hand'</li><li>'winner_ht'</li><li>'winner_ioc'</li><li>'winner_age'</li><li>'loser_id'</li><li>'loser_seed'</li><li>'loser_entry'</li><li>'loser_name'</li><li>'loser_hand'</li><li>'loser_ht'</li><li>'loser_ioc'</li><li>'loser_age'</li><li>'score'</li><li>'best_of'</li><li>'round'</li><li>'minutes'</li><li>'w_ace'</li><li>'w_df'</li><li>'w_svpt'</li><li>'w_1stIn'</li><li>'w_1stWon'</li><li>'w_2ndWon'</li><li>'w_SvGms'</li><li>'w_bpSaved'</li><li>'w_bpFaced'</li><li>'l_ace'</li><li>'l_df'</li><li>'l_svpt'</li><li>'l_1stIn'</li><li>'l_1stWon'</li><li>'l_2ndWon'</li><li>'l_SvGms'</li><li>'l_bpSaved'</li><li>'l_bpFaced'</li><li>'winner_rank'</li><li>'winner_rank_points'</li><li>'loser_rank'</li><li>'loser_rank_points'</li></ol>\n"
      ],
      "text/latex": [
       "\\begin{enumerate*}\n",
       "\\item 'X1'\n",
       "\\item 'tourney\\_id'\n",
       "\\item 'tourney\\_name'\n",
       "\\item 'surface'\n",
       "\\item 'draw\\_size'\n",
       "\\item 'tourney\\_level'\n",
       "\\item 'tourney\\_date'\n",
       "\\item 'match\\_num'\n",
       "\\item 'winner\\_id'\n",
       "\\item 'winner\\_seed'\n",
       "\\item 'winner\\_entry'\n",
       "\\item 'winner\\_name'\n",
       "\\item 'winner\\_hand'\n",
       "\\item 'winner\\_ht'\n",
       "\\item 'winner\\_ioc'\n",
       "\\item 'winner\\_age'\n",
       "\\item 'loser\\_id'\n",
       "\\item 'loser\\_seed'\n",
       "\\item 'loser\\_entry'\n",
       "\\item 'loser\\_name'\n",
       "\\item 'loser\\_hand'\n",
       "\\item 'loser\\_ht'\n",
       "\\item 'loser\\_ioc'\n",
       "\\item 'loser\\_age'\n",
       "\\item 'score'\n",
       "\\item 'best\\_of'\n",
       "\\item 'round'\n",
       "\\item 'minutes'\n",
       "\\item 'w\\_ace'\n",
       "\\item 'w\\_df'\n",
       "\\item 'w\\_svpt'\n",
       "\\item 'w\\_1stIn'\n",
       "\\item 'w\\_1stWon'\n",
       "\\item 'w\\_2ndWon'\n",
       "\\item 'w\\_SvGms'\n",
       "\\item 'w\\_bpSaved'\n",
       "\\item 'w\\_bpFaced'\n",
       "\\item 'l\\_ace'\n",
       "\\item 'l\\_df'\n",
       "\\item 'l\\_svpt'\n",
       "\\item 'l\\_1stIn'\n",
       "\\item 'l\\_1stWon'\n",
       "\\item 'l\\_2ndWon'\n",
       "\\item 'l\\_SvGms'\n",
       "\\item 'l\\_bpSaved'\n",
       "\\item 'l\\_bpFaced'\n",
       "\\item 'winner\\_rank'\n",
       "\\item 'winner\\_rank\\_points'\n",
       "\\item 'loser\\_rank'\n",
       "\\item 'loser\\_rank\\_points'\n",
       "\\end{enumerate*}\n"
      ],
      "text/markdown": [
       "1. 'X1'\n",
       "2. 'tourney_id'\n",
       "3. 'tourney_name'\n",
       "4. 'surface'\n",
       "5. 'draw_size'\n",
       "6. 'tourney_level'\n",
       "7. 'tourney_date'\n",
       "8. 'match_num'\n",
       "9. 'winner_id'\n",
       "10. 'winner_seed'\n",
       "11. 'winner_entry'\n",
       "12. 'winner_name'\n",
       "13. 'winner_hand'\n",
       "14. 'winner_ht'\n",
       "15. 'winner_ioc'\n",
       "16. 'winner_age'\n",
       "17. 'loser_id'\n",
       "18. 'loser_seed'\n",
       "19. 'loser_entry'\n",
       "20. 'loser_name'\n",
       "21. 'loser_hand'\n",
       "22. 'loser_ht'\n",
       "23. 'loser_ioc'\n",
       "24. 'loser_age'\n",
       "25. 'score'\n",
       "26. 'best_of'\n",
       "27. 'round'\n",
       "28. 'minutes'\n",
       "29. 'w_ace'\n",
       "30. 'w_df'\n",
       "31. 'w_svpt'\n",
       "32. 'w_1stIn'\n",
       "33. 'w_1stWon'\n",
       "34. 'w_2ndWon'\n",
       "35. 'w_SvGms'\n",
       "36. 'w_bpSaved'\n",
       "37. 'w_bpFaced'\n",
       "38. 'l_ace'\n",
       "39. 'l_df'\n",
       "40. 'l_svpt'\n",
       "41. 'l_1stIn'\n",
       "42. 'l_1stWon'\n",
       "43. 'l_2ndWon'\n",
       "44. 'l_SvGms'\n",
       "45. 'l_bpSaved'\n",
       "46. 'l_bpFaced'\n",
       "47. 'winner_rank'\n",
       "48. 'winner_rank_points'\n",
       "49. 'loser_rank'\n",
       "50. 'loser_rank_points'\n",
       "\n",
       "\n"
      ],
      "text/plain": [
       " [1] \"X1\"                 \"tourney_id\"         \"tourney_name\"      \n",
       " [4] \"surface\"            \"draw_size\"          \"tourney_level\"     \n",
       " [7] \"tourney_date\"       \"match_num\"          \"winner_id\"         \n",
       "[10] \"winner_seed\"        \"winner_entry\"       \"winner_name\"       \n",
       "[13] \"winner_hand\"        \"winner_ht\"          \"winner_ioc\"        \n",
       "[16] \"winner_age\"         \"loser_id\"           \"loser_seed\"        \n",
       "[19] \"loser_entry\"        \"loser_name\"         \"loser_hand\"        \n",
       "[22] \"loser_ht\"           \"loser_ioc\"          \"loser_age\"         \n",
       "[25] \"score\"              \"best_of\"            \"round\"             \n",
       "[28] \"minutes\"            \"w_ace\"              \"w_df\"              \n",
       "[31] \"w_svpt\"             \"w_1stIn\"            \"w_1stWon\"          \n",
       "[34] \"w_2ndWon\"           \"w_SvGms\"            \"w_bpSaved\"         \n",
       "[37] \"w_bpFaced\"          \"l_ace\"              \"l_df\"              \n",
       "[40] \"l_svpt\"             \"l_1stIn\"            \"l_1stWon\"          \n",
       "[43] \"l_2ndWon\"           \"l_SvGms\"            \"l_bpSaved\"         \n",
       "[46] \"l_bpFaced\"          \"winner_rank\"        \"winner_rank_points\"\n",
       "[49] \"loser_rank\"         \"loser_rank_points\" "
      ]
     },
     "metadata": {},
     "output_type": "display_data"
    }
   ],
   "source": [
    "# Column names of the dataset\n",
    "colnames(tennis)"
   ]
  },
  {
   "cell_type": "markdown",
   "metadata": {},
   "source": [
    "### **Filtering the Dataset**"
   ]
  },
  {
   "cell_type": "code",
   "execution_count": 5,
   "metadata": {},
   "outputs": [],
   "source": [
    "tennis <- subset(tennis, select = c(tourney_name, draw_size, tourney_level, tourney_date, winner_name, winner_hand, winner_ht, winner_ioc, winner_age, score, best_of, w_ace, w_df, w_svpt, w_1stIn, w_1stWon, w_2ndWon, w_SvGms, w_bpSaved, w_bpFaced, winner_rank, winner_rank_points))"
   ]
  },
  {
   "cell_type": "code",
   "execution_count": 8,
   "metadata": {},
   "outputs": [],
   "source": [
    "tennis <- filter(tennis, substr(tourney_date, 0, 4) == \"2018\")\n",
    "tennis <- mutate(tennis, winner_hand = as.integer(as.factor(winner_hand)), na.rm = TRUE)"
   ]
  },
  {
   "cell_type": "markdown",
   "metadata": {},
   "source": [
    "#### **Group By and Summarize Player Name, Tidying the Data**"
   ]
  },
  {
   "cell_type": "code",
   "execution_count": 10,
   "metadata": {},
   "outputs": [
    {
     "name": "stderr",
     "output_type": "stream",
     "text": [
      "`summarise()` ungrouping output (override with `.groups` argument)\n",
      "\n"
     ]
    },
    {
     "data": {
      "text/html": [
       "<table>\n",
       "<caption>A tibble: 182 × 13</caption>\n",
       "<thead>\n",
       "\t<tr><th scope=col>winner_name</th><th scope=col>winner_rank</th><th scope=col>winner_age</th><th scope=col>winner_hand</th><th scope=col>w_ace</th><th scope=col>w_df</th><th scope=col>w_svpt</th><th scope=col>w_1stIn</th><th scope=col>w_1stWon</th><th scope=col>w_2ndWon</th><th scope=col>w_SvGms</th><th scope=col>w_bpSaved</th><th scope=col>w_bpFaced</th></tr>\n",
       "\t<tr><th scope=col>&lt;chr&gt;</th><th scope=col>&lt;dbl&gt;</th><th scope=col>&lt;dbl&gt;</th><th scope=col>&lt;dbl&gt;</th><th scope=col>&lt;dbl&gt;</th><th scope=col>&lt;dbl&gt;</th><th scope=col>&lt;dbl&gt;</th><th scope=col>&lt;dbl&gt;</th><th scope=col>&lt;dbl&gt;</th><th scope=col>&lt;dbl&gt;</th><th scope=col>&lt;dbl&gt;</th><th scope=col>&lt;dbl&gt;</th><th scope=col>&lt;dbl&gt;</th></tr>\n",
       "</thead>\n",
       "<tbody>\n",
       "\t<tr><td>Adam Pavlasek           </td><td>196.50</td><td>23.55921</td><td>2</td><td>10.00</td><td>3.00</td><td>101.0</td><td>72.50</td><td>52.50</td><td>17.50</td><td>16.50</td><td>4.00</td><td>5.00</td></tr>\n",
       "\t<tr><td>Adrian Mannarino        </td><td> 30.24</td><td>29.98768</td><td>1</td><td> 6.76</td><td>2.56</td><td> 86.4</td><td>53.96</td><td>40.12</td><td>18.68</td><td>14.08</td><td>3.68</td><td>5.52</td></tr>\n",
       "\t<tr><td>Adrian Menendez Maceiras</td><td>128.00</td><td>32.29295</td><td>2</td><td> 7.50</td><td>1.50</td><td> 89.0</td><td>63.00</td><td>41.00</td><td>15.50</td><td>13.00</td><td>6.00</td><td>8.50</td></tr>\n",
       "\t<tr><td>⋮</td><td>⋮</td><td>⋮</td><td>⋮</td><td>⋮</td><td>⋮</td><td>⋮</td><td>⋮</td><td>⋮</td><td>⋮</td><td>⋮</td><td>⋮</td><td>⋮</td></tr>\n",
       "\t<tr><td>Yuichi Sugita</td><td> 46.71429</td><td>29.72758</td><td>2</td><td> 5.571429</td><td>3</td><td> 82.71429</td><td> 51.42857</td><td>40</td><td>16.57143</td><td>13.28571</td><td>4.142857</td><td> 5.714286</td></tr>\n",
       "\t<tr><td>Ze Zhang     </td><td>247.00000</td><td>27.74538</td><td>2</td><td> 4.000000</td><td>4</td><td> 54.00000</td><td> 35.00000</td><td>25</td><td>10.00000</td><td> 9.00000</td><td>4.000000</td><td> 6.000000</td></tr>\n",
       "\t<tr><td>Zsombor Piros</td><td>419.00000</td><td>18.91034</td><td>3</td><td>12.000000</td><td>2</td><td>159.00000</td><td>102.00000</td><td>73</td><td>30.00000</td><td>27.00000</td><td>7.000000</td><td>12.000000</td></tr>\n",
       "</tbody>\n",
       "</table>\n"
      ],
      "text/latex": [
       "A tibble: 182 × 13\n",
       "\\begin{tabular}{lllllllllllll}\n",
       " winner\\_name & winner\\_rank & winner\\_age & winner\\_hand & w\\_ace & w\\_df & w\\_svpt & w\\_1stIn & w\\_1stWon & w\\_2ndWon & w\\_SvGms & w\\_bpSaved & w\\_bpFaced\\\\\n",
       " <chr> & <dbl> & <dbl> & <dbl> & <dbl> & <dbl> & <dbl> & <dbl> & <dbl> & <dbl> & <dbl> & <dbl> & <dbl>\\\\\n",
       "\\hline\n",
       "\t Adam Pavlasek            & 196.50 & 23.55921 & 2 & 10.00 & 3.00 & 101.0 & 72.50 & 52.50 & 17.50 & 16.50 & 4.00 & 5.00\\\\\n",
       "\t Adrian Mannarino         &  30.24 & 29.98768 & 1 &  6.76 & 2.56 &  86.4 & 53.96 & 40.12 & 18.68 & 14.08 & 3.68 & 5.52\\\\\n",
       "\t Adrian Menendez Maceiras & 128.00 & 32.29295 & 2 &  7.50 & 1.50 &  89.0 & 63.00 & 41.00 & 15.50 & 13.00 & 6.00 & 8.50\\\\\n",
       "\t ⋮ & ⋮ & ⋮ & ⋮ & ⋮ & ⋮ & ⋮ & ⋮ & ⋮ & ⋮ & ⋮ & ⋮ & ⋮\\\\\n",
       "\t Yuichi Sugita &  46.71429 & 29.72758 & 2 &  5.571429 & 3 &  82.71429 &  51.42857 & 40 & 16.57143 & 13.28571 & 4.142857 &  5.714286\\\\\n",
       "\t Ze Zhang      & 247.00000 & 27.74538 & 2 &  4.000000 & 4 &  54.00000 &  35.00000 & 25 & 10.00000 &  9.00000 & 4.000000 &  6.000000\\\\\n",
       "\t Zsombor Piros & 419.00000 & 18.91034 & 3 & 12.000000 & 2 & 159.00000 & 102.00000 & 73 & 30.00000 & 27.00000 & 7.000000 & 12.000000\\\\\n",
       "\\end{tabular}\n"
      ],
      "text/markdown": [
       "\n",
       "A tibble: 182 × 13\n",
       "\n",
       "| winner_name &lt;chr&gt; | winner_rank &lt;dbl&gt; | winner_age &lt;dbl&gt; | winner_hand &lt;dbl&gt; | w_ace &lt;dbl&gt; | w_df &lt;dbl&gt; | w_svpt &lt;dbl&gt; | w_1stIn &lt;dbl&gt; | w_1stWon &lt;dbl&gt; | w_2ndWon &lt;dbl&gt; | w_SvGms &lt;dbl&gt; | w_bpSaved &lt;dbl&gt; | w_bpFaced &lt;dbl&gt; |\n",
       "|---|---|---|---|---|---|---|---|---|---|---|---|---|\n",
       "| Adam Pavlasek            | 196.50 | 23.55921 | 2 | 10.00 | 3.00 | 101.0 | 72.50 | 52.50 | 17.50 | 16.50 | 4.00 | 5.00 |\n",
       "| Adrian Mannarino         |  30.24 | 29.98768 | 1 |  6.76 | 2.56 |  86.4 | 53.96 | 40.12 | 18.68 | 14.08 | 3.68 | 5.52 |\n",
       "| Adrian Menendez Maceiras | 128.00 | 32.29295 | 2 |  7.50 | 1.50 |  89.0 | 63.00 | 41.00 | 15.50 | 13.00 | 6.00 | 8.50 |\n",
       "| ⋮ | ⋮ | ⋮ | ⋮ | ⋮ | ⋮ | ⋮ | ⋮ | ⋮ | ⋮ | ⋮ | ⋮ | ⋮ |\n",
       "| Yuichi Sugita |  46.71429 | 29.72758 | 2 |  5.571429 | 3 |  82.71429 |  51.42857 | 40 | 16.57143 | 13.28571 | 4.142857 |  5.714286 |\n",
       "| Ze Zhang      | 247.00000 | 27.74538 | 2 |  4.000000 | 4 |  54.00000 |  35.00000 | 25 | 10.00000 |  9.00000 | 4.000000 |  6.000000 |\n",
       "| Zsombor Piros | 419.00000 | 18.91034 | 3 | 12.000000 | 2 | 159.00000 | 102.00000 | 73 | 30.00000 | 27.00000 | 7.000000 | 12.000000 |\n",
       "\n"
      ],
      "text/plain": [
       "    winner_name              winner_rank winner_age winner_hand w_ace     w_df\n",
       "1   Adam Pavlasek            196.50      23.55921   2           10.00     3.00\n",
       "2   Adrian Mannarino          30.24      29.98768   1            6.76     2.56\n",
       "3   Adrian Menendez Maceiras 128.00      32.29295   2            7.50     1.50\n",
       "⋮   ⋮                        ⋮           ⋮          ⋮           ⋮         ⋮   \n",
       "180 Yuichi Sugita             46.71429   29.72758   2            5.571429 3   \n",
       "181 Ze Zhang                 247.00000   27.74538   2            4.000000 4   \n",
       "182 Zsombor Piros            419.00000   18.91034   3           12.000000 2   \n",
       "    w_svpt    w_1stIn   w_1stWon w_2ndWon w_SvGms  w_bpSaved w_bpFaced\n",
       "1   101.0     72.50     52.50    17.50    16.50    4.00      5.00     \n",
       "2    86.4     53.96     40.12    18.68    14.08    3.68      5.52     \n",
       "3    89.0     63.00     41.00    15.50    13.00    6.00      8.50     \n",
       "⋮   ⋮         ⋮         ⋮        ⋮        ⋮        ⋮         ⋮        \n",
       "180  82.71429  51.42857 40       16.57143 13.28571 4.142857   5.714286\n",
       "181  54.00000  35.00000 25       10.00000  9.00000 4.000000   6.000000\n",
       "182 159.00000 102.00000 73       30.00000 27.00000 7.000000  12.000000"
      ]
     },
     "metadata": {},
     "output_type": "display_data"
    }
   ],
   "source": [
    "player_stats <- group_by(tennis, winner_name) %>% \n",
    "    summarize(winner_rank = mean(winner_rank), winner_age = median(winner_age), winner_hand = mean(winner_hand), w_ace = mean(w_ace), w_df = mean(w_df), w_svpt = mean(w_svpt), w_1stIn = mean(w_1stIn), w_1stWon = mean(w_1stWon), w_2ndWon = mean(w_2ndWon), w_SvGms = mean(w_SvGms), w_bpSaved = mean(w_bpSaved), w_bpFaced = mean(w_bpFaced)) %>% \n",
    "    na.omit(player_stats)\n",
    "\n",
    "player_stats"
   ]
  },
  {
   "cell_type": "markdown",
   "metadata": {},
   "source": [
    "### **Splitting the Data into Training and Testing Set**"
   ]
  },
  {
   "cell_type": "code",
   "execution_count": 11,
   "metadata": {},
   "outputs": [],
   "source": [
    "set.seed(2000)\n",
    "player_split <- initial_split(player_stats, prop = 3/4, strata = winner_rank)\n",
    "player_training <- training(player_split)\n",
    "player_testing <- testing(player_split)"
   ]
  },
  {
   "cell_type": "code",
   "execution_count": null,
   "metadata": {},
   "outputs": [],
   "source": [
    "#ggplot(player_training, aes(x = , y = ))"
   ]
  },
  {
   "cell_type": "markdown",
   "metadata": {},
   "source": [
    "<br>\n",
    "\n",
    "# **Methods**"
   ]
  },
  {
   "cell_type": "markdown",
   "metadata": {},
   "source": [
<<<<<<< HEAD
    "From the data set we will be using only the columns rank, age, height, (still need to decide other columns). We will be using regression analysis that uses data to understand how a ranking variable's value is affected when one or more independent variables change or stay the same. By understanding each variable's relationship and how they developed in the past, we will anticipate possible outcomes and make better predictions for future ranking.\n",
=======
    "From the data set, we will be using only the columns of rank, age, playing hand, and several other game statistics to predict the future ranks of tennis players. Each of these variables was averaged to ensure that data throughout the ATP circuit would be included in the analysis. We will be using regression analysis that uses data to understand how a ranking variable's value is affected when one or more independent variables change or stay the same. By understanding each variable's relationship and how they developed in the past, we will anticipate possible outcomes and make better predictions for future ranking. Due to the amount of data in the original dataset, many of the tennis players were not included in this analysis due to a lack of, or insufficient data. These players were filtered out during the initial phase of exploring our data. Furthermore, only the data based on the winners of each tournament round were considered. This is due to the fact that the points that determine a player's ranking are only awarded when matches are won and are never deducted for losing. Losing has no impact on the ranking of the player, our predicted variable.\n",
>>>>>>> 57e73097c9700ae32e55020a719470a4b3027735
    "\n",
    "We will visualize the results by using graphs to find the relationship between the data and predict the most adequate rankings based on the data. We will be using scatterplot and functions such as ggplot/ggpairs to visualize the results with future ranking on the y-axis and the variables on the x-axis. "
   ]
  },
  {
   "cell_type": "markdown",
   "metadata": {},
   "source": [
    "<br>\n",
    "\n",
    "# **Expected Outcomes and Significance**"
   ]
  },
  {
   "cell_type": "markdown",
   "metadata": {},
   "source": [
<<<<<<< HEAD
    "It is to be expected that tennis player statistics, to a certain degree, should be able to predict their current and future rankings. In general observation, the majority of the top players will remain near the top of the rankings for the majority of their careers. It will be interesting to see if any predictors can significantly predict which players are to rise or fall in their rankings. It is expected that age, current rankings, and their previous rise in rankings over preceding years. There are also some factors that will be interesting to explore their effect on world rankings, such as physical attributes. \n",
    "\n",
    "It’ll be interesting to explore whether, and if so, the extent, the future ranking of Tennis players can be forecasted using current statistics. Although there are not any significant real world impacts that any of our findings will lead to, it will be an interesting read for any sports fans and data junkies to read and expand upon. Based on our findings, it will be interesting to explore whether there are any missing factors that could improve on our prediction model; and the result of applying our model to other sports as well.\n"
=======
    "   It is to be expected that tennis player statistics, to a certain degree, should be able to predict their current and future rankings. In general observation, the majority of the top players will remain near the top of the rankings for the majority of their careers. It will be interesting to see if any predictors can significantly predict which players are to rise or fall in their rankings. It is expected that age, current rankings, and their previous rise in rankings over preceding years. There are also some factors that will be interesting to explore their effect on world rankings, such as physical attributes. \n",
    "   \n",
    "   It’ll be interesting to explore whether, and if so, the extent, the future ranking of Tennis players can be forecasted using current statistics. Although there are not any significant real-world impacts that any of our findings will lead to, it will be an interesting read for any sports fans and data junkies to read and expand upon. Based on our findings, it will be interesting to explore whether there are any missing factors that could improve on our prediction model; and the result of applying our model to other sports as well."
>>>>>>> 57e73097c9700ae32e55020a719470a4b3027735
   ]
  }
 ],
 "metadata": {
  "kernelspec": {
   "display_name": "R",
   "language": "R",
   "name": "ir"
  },
  "language_info": {
   "codemirror_mode": "r",
   "file_extension": ".r",
   "mimetype": "text/x-r-source",
   "name": "R",
   "pygments_lexer": "r",
   "version": "4.0.0"
  }
 },
 "nbformat": 4,
 "nbformat_minor": 4
}
