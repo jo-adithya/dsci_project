{
 "cells": [
  {
   "cell_type": "code",
   "execution_count": null,
   "cell_type": "markdown",
   "metadata": {},
   "outputs": [],
   "source": []
   "source": [
    "Introduction\n",
    "\n",
    "By using the data set of games won or lost by a tennis player, we are able to use several categorical variables to predict and classify the future ranking of a particular tennis player based on these attributes. This leads to the question, how well do variables relating to player status, age, height, current rank, and playing hand predict the future ranking of the player during later tennis seasons? The dataset used to answer this question will be the game results for the top 500 players during the 2018 tennis season. This particular data was chosen to avoid interruptions by the COVID-19 pandemic, and to ensure that the data would no longer be able to be altered by new data. The dataset includes data from both winners and losers of rounds of national and international tennis tournaments, mostly hosted by the ATP world tour. The rankings will be extracted from ATP’s official website to allow for prediction and comparison. "
   ]
  }
 ],
 "metadata": {
  "kernelspec": {
   "display_name": "R",
   "language": "R",
   "name": "ir"
  },
  "language_info": {
   "codemirror_mode": "r",
   "file_extension": ".r",
   "mimetype": "text/x-r-source",
   "name": "R",
   "pygments_lexer": "r",
   "version": "4.0.0"
  }
 },
 "nbformat": 4,
 "nbformat_minor": 4
}
