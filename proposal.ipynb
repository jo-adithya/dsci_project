{
 "cells": [
  {
   "cell_type": "markdown",
   "metadata": {},
   "source": [
    "# **Group Proposal**"
   ]
  },
  {
   "cell_type": "markdown",
   "metadata": {},
   "source": [
    "<br>\n",
    "\n",
    "# **Introduction**"
   ]
  },
  {
   "cell_type": "markdown",
   "metadata": {},
   "source": [
    "It is to be expected that tennis player statistics, to a certain degree, should be able to predict their current and future rankings. In general observation, the majority of the top players will remain near the top of the rankings for the majority of their careers. It will be interesting to see if any predictors can significantly predict which players are to rise or fall in their rankings. It is expected that age, current rankings, and their previous rise in rankings over preceding years. There are also some factors that will be interesting to explore their effect on world rankings, such as physical attributes. \n",
    "\n",
    "It’ll be interesting to explore whether, and if so, the extent, the future ranking of Tennis players can be forecasted using current statistics. Although there are not any significant real world impacts that any of our findings will lead to, it will be an interesting read for any sports fans and data junkies to read and expand upon. Based on our findings, it will be interesting to explore whether there are any missing factors that could improve on our prediction model; and the result of applying our model to other sports as well."
   ]
  },
  {
   "cell_type": "markdown",
   "metadata": {},
   "source": [
    "<br>\n",
    "\n",
    "# **Preliminary Exploratory Data Analysis**"
   ]
  },
  {
   "cell_type": "markdown",
   "metadata": {},
   "source": [
    "### **Importing Libraries**"
   ]
  },
  {
   "cell_type": "code",
   "execution_count": 12,
   "metadata": {},
   "outputs": [
    {
     "name": "stderr",
     "output_type": "stream",
     "text": [
      "Warning message:\n",
      "“package ‘tidymodels’ was built under R version 4.0.2”\n",
      "── \u001b[1mAttaching packages\u001b[22m ────────────────────────────────────── tidymodels 0.1.1 ──\n",
      "\n",
      "\u001b[32m✔\u001b[39m \u001b[34mbroom    \u001b[39m 0.7.0      \u001b[32m✔\u001b[39m \u001b[34mrecipes  \u001b[39m 0.1.13\n",
      "\u001b[32m✔\u001b[39m \u001b[34mdials    \u001b[39m 0.0.9      \u001b[32m✔\u001b[39m \u001b[34mrsample  \u001b[39m 0.0.7 \n",
      "\u001b[32m✔\u001b[39m \u001b[34minfer    \u001b[39m 0.5.4      \u001b[32m✔\u001b[39m \u001b[34mtune     \u001b[39m 0.1.1 \n",
      "\u001b[32m✔\u001b[39m \u001b[34mmodeldata\u001b[39m 0.0.2      \u001b[32m✔\u001b[39m \u001b[34mworkflows\u001b[39m 0.2.0 \n",
      "\u001b[32m✔\u001b[39m \u001b[34mparsnip  \u001b[39m 0.1.3      \u001b[32m✔\u001b[39m \u001b[34myardstick\u001b[39m 0.0.7 \n",
      "\n",
      "Warning message:\n",
      "“package ‘broom’ was built under R version 4.0.2”\n",
      "Warning message:\n",
      "“package ‘dials’ was built under R version 4.0.2”\n",
      "Warning message:\n",
      "“package ‘infer’ was built under R version 4.0.3”\n",
      "Warning message:\n",
      "“package ‘modeldata’ was built under R version 4.0.1”\n",
      "Warning message:\n",
      "“package ‘parsnip’ was built under R version 4.0.2”\n",
      "Warning message:\n",
      "“package ‘recipes’ was built under R version 4.0.1”\n",
      "Warning message:\n",
      "“package ‘tune’ was built under R version 4.0.2”\n",
      "Warning message:\n",
      "“package ‘workflows’ was built under R version 4.0.2”\n",
      "Warning message:\n",
      "“package ‘yardstick’ was built under R version 4.0.2”\n",
      "── \u001b[1mConflicts\u001b[22m ───────────────────────────────────────── tidymodels_conflicts() ──\n",
      "\u001b[31m✖\u001b[39m \u001b[34mscales\u001b[39m::\u001b[32mdiscard()\u001b[39m masks \u001b[34mpurrr\u001b[39m::discard()\n",
      "\u001b[31m✖\u001b[39m \u001b[34mdplyr\u001b[39m::\u001b[32mfilter()\u001b[39m   masks \u001b[34mstats\u001b[39m::filter()\n",
      "\u001b[31m✖\u001b[39m \u001b[34mrecipes\u001b[39m::\u001b[32mfixed()\u001b[39m  masks \u001b[34mstringr\u001b[39m::fixed()\n",
      "\u001b[31m✖\u001b[39m \u001b[34mdplyr\u001b[39m::\u001b[32mlag()\u001b[39m      masks \u001b[34mstats\u001b[39m::lag()\n",
      "\u001b[31m✖\u001b[39m \u001b[34myardstick\u001b[39m::\u001b[32mspec()\u001b[39m masks \u001b[34mreadr\u001b[39m::spec()\n",
      "\u001b[31m✖\u001b[39m \u001b[34mrecipes\u001b[39m::\u001b[32mstep()\u001b[39m   masks \u001b[34mstats\u001b[39m::step()\n",
      "\n"
     ]
    }
   ],
   "source": [
    "library(tidyverse)\n",
    "library(tidymodels)\n",
    "library(repr)\n",
    "library(dplyr)\n",
    "\n",
    "options(repr.matrix.max.rows = 6)"
   ]
  },
  {
   "cell_type": "markdown",
   "metadata": {},
   "source": [
    "### **Download the Tennis Dataset**"
   ]
  },
  {
   "cell_type": "code",
   "execution_count": 2,
   "metadata": {},
   "outputs": [],
   "source": [
    "url <- \"https://drive.google.com/uc?export=download&id=1fOQ8sy_qMkQiQEAO6uFdRX4tLI8EpSTn\"\n",
    "download.file(url, \"data/data.csv\")"
   ]
  },
  {
   "cell_type": "markdown",
   "metadata": {},
   "source": [
    "### **Load the Tennis Dataset**"
   ]
  },
  {
   "cell_type": "code",
   "execution_count": 6,
   "metadata": {},
   "outputs": [
    {
     "name": "stderr",
     "output_type": "stream",
     "text": [
      "Warning message:\n",
      "“Missing column names filled in: 'X1' [1]”\n",
      "Parsed with column specification:\n",
      "cols(\n",
      "  .default = col_double(),\n",
      "  tourney_id = \u001b[31mcol_character()\u001b[39m,\n",
      "  tourney_name = \u001b[31mcol_character()\u001b[39m,\n",
      "  surface = \u001b[31mcol_character()\u001b[39m,\n",
      "  tourney_level = \u001b[31mcol_character()\u001b[39m,\n",
      "  winner_seed = \u001b[31mcol_character()\u001b[39m,\n",
      "  winner_entry = \u001b[31mcol_character()\u001b[39m,\n",
      "  winner_name = \u001b[31mcol_character()\u001b[39m,\n",
      "  winner_hand = \u001b[31mcol_character()\u001b[39m,\n",
      "  winner_ioc = \u001b[31mcol_character()\u001b[39m,\n",
      "  loser_seed = \u001b[31mcol_character()\u001b[39m,\n",
      "  loser_entry = \u001b[31mcol_character()\u001b[39m,\n",
      "  loser_name = \u001b[31mcol_character()\u001b[39m,\n",
      "  loser_hand = \u001b[31mcol_character()\u001b[39m,\n",
      "  loser_ioc = \u001b[31mcol_character()\u001b[39m,\n",
      "  score = \u001b[31mcol_character()\u001b[39m,\n",
      "  round = \u001b[31mcol_character()\u001b[39m\n",
      ")\n",
      "\n",
      "See spec(...) for full column specifications.\n",
      "\n"
     ]
    },
    {
     "data": {
      "text/html": [
       "<table>\n",
       "<caption>A tibble: 6 × 50</caption>\n",
       "<thead>\n",
       "\t<tr><th scope=col>X1</th><th scope=col>tourney_id</th><th scope=col>tourney_name</th><th scope=col>surface</th><th scope=col>draw_size</th><th scope=col>tourney_level</th><th scope=col>tourney_date</th><th scope=col>match_num</th><th scope=col>winner_id</th><th scope=col>winner_seed</th><th scope=col>⋯</th><th scope=col>l_1stIn</th><th scope=col>l_1stWon</th><th scope=col>l_2ndWon</th><th scope=col>l_SvGms</th><th scope=col>l_bpSaved</th><th scope=col>l_bpFaced</th><th scope=col>winner_rank</th><th scope=col>winner_rank_points</th><th scope=col>loser_rank</th><th scope=col>loser_rank_points</th></tr>\n",
       "\t<tr><th scope=col>&lt;dbl&gt;</th><th scope=col>&lt;chr&gt;</th><th scope=col>&lt;chr&gt;</th><th scope=col>&lt;chr&gt;</th><th scope=col>&lt;dbl&gt;</th><th scope=col>&lt;chr&gt;</th><th scope=col>&lt;dbl&gt;</th><th scope=col>&lt;dbl&gt;</th><th scope=col>&lt;dbl&gt;</th><th scope=col>&lt;chr&gt;</th><th scope=col>⋯</th><th scope=col>&lt;dbl&gt;</th><th scope=col>&lt;dbl&gt;</th><th scope=col>&lt;dbl&gt;</th><th scope=col>&lt;dbl&gt;</th><th scope=col>&lt;dbl&gt;</th><th scope=col>&lt;dbl&gt;</th><th scope=col>&lt;dbl&gt;</th><th scope=col>&lt;dbl&gt;</th><th scope=col>&lt;dbl&gt;</th><th scope=col>&lt;dbl&gt;</th></tr>\n",
       "</thead>\n",
       "<tbody>\n",
       "\t<tr><td>0</td><td>2019-M020</td><td>Brisbane</td><td>Hard</td><td>32</td><td>A</td><td>20181231</td><td>300</td><td>105453</td><td>2 </td><td>⋯</td><td>54</td><td>34</td><td>20</td><td>14</td><td>10</td><td>15</td><td>  9</td><td>3590</td><td> 16</td><td>1977</td></tr>\n",
       "\t<tr><td>1</td><td>2019-M020</td><td>Brisbane</td><td>Hard</td><td>32</td><td>A</td><td>20181231</td><td>299</td><td>106421</td><td>4 </td><td>⋯</td><td>52</td><td>36</td><td> 7</td><td>10</td><td>10</td><td>13</td><td> 16</td><td>1977</td><td>239</td><td> 200</td></tr>\n",
       "\t<tr><td>2</td><td>2019-M020</td><td>Brisbane</td><td>Hard</td><td>32</td><td>A</td><td>20181231</td><td>298</td><td>105453</td><td>2 </td><td>⋯</td><td>27</td><td>15</td><td> 6</td><td> 8</td><td> 1</td><td> 5</td><td>  9</td><td>3590</td><td> 40</td><td>1050</td></tr>\n",
       "\t<tr><td>3</td><td>2019-M020</td><td>Brisbane</td><td>Hard</td><td>32</td><td>A</td><td>20181231</td><td>297</td><td>104542</td><td>NA</td><td>⋯</td><td>60</td><td>38</td><td> 9</td><td>11</td><td> 4</td><td> 6</td><td>239</td><td> 200</td><td> 31</td><td>1298</td></tr>\n",
       "\t<tr><td>4</td><td>2019-M020</td><td>Brisbane</td><td>Hard</td><td>32</td><td>A</td><td>20181231</td><td>296</td><td>106421</td><td>4 </td><td>⋯</td><td>56</td><td>46</td><td>19</td><td>15</td><td> 2</td><td> 4</td><td> 16</td><td>1977</td><td> 18</td><td>1855</td></tr>\n",
       "\t<tr><td>5</td><td>2019-M020</td><td>Brisbane</td><td>Hard</td><td>32</td><td>A</td><td>20181231</td><td>295</td><td>104871</td><td>NA</td><td>⋯</td><td>54</td><td>40</td><td>18</td><td>15</td><td> 6</td><td> 9</td><td> 40</td><td>1050</td><td>185</td><td> 275</td></tr>\n",
       "</tbody>\n",
       "</table>\n"
      ],
      "text/latex": [
       "A tibble: 6 × 50\n",
       "\\begin{tabular}{lllllllllllllllllllll}\n",
       " X1 & tourney\\_id & tourney\\_name & surface & draw\\_size & tourney\\_level & tourney\\_date & match\\_num & winner\\_id & winner\\_seed & ⋯ & l\\_1stIn & l\\_1stWon & l\\_2ndWon & l\\_SvGms & l\\_bpSaved & l\\_bpFaced & winner\\_rank & winner\\_rank\\_points & loser\\_rank & loser\\_rank\\_points\\\\\n",
       " <dbl> & <chr> & <chr> & <chr> & <dbl> & <chr> & <dbl> & <dbl> & <dbl> & <chr> & ⋯ & <dbl> & <dbl> & <dbl> & <dbl> & <dbl> & <dbl> & <dbl> & <dbl> & <dbl> & <dbl>\\\\\n",
       "\\hline\n",
       "\t 0 & 2019-M020 & Brisbane & Hard & 32 & A & 20181231 & 300 & 105453 & 2  & ⋯ & 54 & 34 & 20 & 14 & 10 & 15 &   9 & 3590 &  16 & 1977\\\\\n",
       "\t 1 & 2019-M020 & Brisbane & Hard & 32 & A & 20181231 & 299 & 106421 & 4  & ⋯ & 52 & 36 &  7 & 10 & 10 & 13 &  16 & 1977 & 239 &  200\\\\\n",
       "\t 2 & 2019-M020 & Brisbane & Hard & 32 & A & 20181231 & 298 & 105453 & 2  & ⋯ & 27 & 15 &  6 &  8 &  1 &  5 &   9 & 3590 &  40 & 1050\\\\\n",
       "\t 3 & 2019-M020 & Brisbane & Hard & 32 & A & 20181231 & 297 & 104542 & NA & ⋯ & 60 & 38 &  9 & 11 &  4 &  6 & 239 &  200 &  31 & 1298\\\\\n",
       "\t 4 & 2019-M020 & Brisbane & Hard & 32 & A & 20181231 & 296 & 106421 & 4  & ⋯ & 56 & 46 & 19 & 15 &  2 &  4 &  16 & 1977 &  18 & 1855\\\\\n",
       "\t 5 & 2019-M020 & Brisbane & Hard & 32 & A & 20181231 & 295 & 104871 & NA & ⋯ & 54 & 40 & 18 & 15 &  6 &  9 &  40 & 1050 & 185 &  275\\\\\n",
       "\\end{tabular}\n"
      ],
      "text/markdown": [
       "\n",
       "A tibble: 6 × 50\n",
       "\n",
       "| X1 &lt;dbl&gt; | tourney_id &lt;chr&gt; | tourney_name &lt;chr&gt; | surface &lt;chr&gt; | draw_size &lt;dbl&gt; | tourney_level &lt;chr&gt; | tourney_date &lt;dbl&gt; | match_num &lt;dbl&gt; | winner_id &lt;dbl&gt; | winner_seed &lt;chr&gt; | ⋯ ⋯ | l_1stIn &lt;dbl&gt; | l_1stWon &lt;dbl&gt; | l_2ndWon &lt;dbl&gt; | l_SvGms &lt;dbl&gt; | l_bpSaved &lt;dbl&gt; | l_bpFaced &lt;dbl&gt; | winner_rank &lt;dbl&gt; | winner_rank_points &lt;dbl&gt; | loser_rank &lt;dbl&gt; | loser_rank_points &lt;dbl&gt; |\n",
       "|---|---|---|---|---|---|---|---|---|---|---|---|---|---|---|---|---|---|---|---|---|\n",
       "| 0 | 2019-M020 | Brisbane | Hard | 32 | A | 20181231 | 300 | 105453 | 2  | ⋯ | 54 | 34 | 20 | 14 | 10 | 15 |   9 | 3590 |  16 | 1977 |\n",
       "| 1 | 2019-M020 | Brisbane | Hard | 32 | A | 20181231 | 299 | 106421 | 4  | ⋯ | 52 | 36 |  7 | 10 | 10 | 13 |  16 | 1977 | 239 |  200 |\n",
       "| 2 | 2019-M020 | Brisbane | Hard | 32 | A | 20181231 | 298 | 105453 | 2  | ⋯ | 27 | 15 |  6 |  8 |  1 |  5 |   9 | 3590 |  40 | 1050 |\n",
       "| 3 | 2019-M020 | Brisbane | Hard | 32 | A | 20181231 | 297 | 104542 | NA | ⋯ | 60 | 38 |  9 | 11 |  4 |  6 | 239 |  200 |  31 | 1298 |\n",
       "| 4 | 2019-M020 | Brisbane | Hard | 32 | A | 20181231 | 296 | 106421 | 4  | ⋯ | 56 | 46 | 19 | 15 |  2 |  4 |  16 | 1977 |  18 | 1855 |\n",
       "| 5 | 2019-M020 | Brisbane | Hard | 32 | A | 20181231 | 295 | 104871 | NA | ⋯ | 54 | 40 | 18 | 15 |  6 |  9 |  40 | 1050 | 185 |  275 |\n",
       "\n"
      ],
      "text/plain": [
       "  X1 tourney_id tourney_name surface draw_size tourney_level tourney_date\n",
       "1 0  2019-M020  Brisbane     Hard    32        A             20181231    \n",
       "2 1  2019-M020  Brisbane     Hard    32        A             20181231    \n",
       "3 2  2019-M020  Brisbane     Hard    32        A             20181231    \n",
       "4 3  2019-M020  Brisbane     Hard    32        A             20181231    \n",
       "5 4  2019-M020  Brisbane     Hard    32        A             20181231    \n",
       "6 5  2019-M020  Brisbane     Hard    32        A             20181231    \n",
       "  match_num winner_id winner_seed ⋯ l_1stIn l_1stWon l_2ndWon l_SvGms l_bpSaved\n",
       "1 300       105453    2           ⋯ 54      34       20       14      10       \n",
       "2 299       106421    4           ⋯ 52      36        7       10      10       \n",
       "3 298       105453    2           ⋯ 27      15        6        8       1       \n",
       "4 297       104542    NA          ⋯ 60      38        9       11       4       \n",
       "5 296       106421    4           ⋯ 56      46       19       15       2       \n",
       "6 295       104871    NA          ⋯ 54      40       18       15       6       \n",
       "  l_bpFaced winner_rank winner_rank_points loser_rank loser_rank_points\n",
       "1 15          9         3590                16        1977             \n",
       "2 13         16         1977               239         200             \n",
       "3  5          9         3590                40        1050             \n",
       "4  6        239          200                31        1298             \n",
       "5  4         16         1977                18        1855             \n",
       "6  9         40         1050               185         275             "
      ]
     },
     "metadata": {},
     "output_type": "display_data"
    }
   ],
   "source": [
    "tennis <- read_csv(\"data/data.csv\")\n",
    "head(tennis)"
   ]
  },
  {
   "cell_type": "markdown",
   "metadata": {},
   "source": [
    "### **Filtering the Dataset**"
   ]
  },
  {
   "cell_type": "code",
   "execution_count": 7,
   "metadata": {},
   "outputs": [],
   "source": [
    "tennis <- subset(tennis, select = c(tourney_name, draw_size, tourney_level, tourney_date, winner_name, winner_hand, winner_ht, winner_ioc, winner_age, score, best_of, w_ace, w_df, w_svpt, w_1stIn, w_1stWon, w_2ndWon, w_SvGms, w_bpSaved, w_bpFaced, winner_rank, winner_rank_points))"
   ]
  },
  {
   "cell_type": "code",
   "execution_count": 9,
   "metadata": {},
   "outputs": [
    {
     "data": {
      "text/html": [
       "<table>\n",
       "<caption>A tibble: 2418 × 23</caption>\n",
       "<thead>\n",
       "\t<tr><th scope=col>tourney_name</th><th scope=col>draw_size</th><th scope=col>tourney_level</th><th scope=col>tourney_date</th><th scope=col>winner_name</th><th scope=col>winner_hand</th><th scope=col>winner_ht</th><th scope=col>winner_ioc</th><th scope=col>winner_age</th><th scope=col>score</th><th scope=col>⋯</th><th scope=col>w_svpt</th><th scope=col>w_1stIn</th><th scope=col>w_1stWon</th><th scope=col>w_2ndWon</th><th scope=col>w_SvGms</th><th scope=col>w_bpSaved</th><th scope=col>w_bpFaced</th><th scope=col>winner_rank</th><th scope=col>winner_rank_points</th><th scope=col>na.rm</th></tr>\n",
       "\t<tr><th scope=col>&lt;chr&gt;</th><th scope=col>&lt;dbl&gt;</th><th scope=col>&lt;chr&gt;</th><th scope=col>&lt;dbl&gt;</th><th scope=col>&lt;chr&gt;</th><th scope=col>&lt;int&gt;</th><th scope=col>&lt;dbl&gt;</th><th scope=col>&lt;chr&gt;</th><th scope=col>&lt;dbl&gt;</th><th scope=col>&lt;chr&gt;</th><th scope=col>⋯</th><th scope=col>&lt;dbl&gt;</th><th scope=col>&lt;dbl&gt;</th><th scope=col>&lt;dbl&gt;</th><th scope=col>&lt;dbl&gt;</th><th scope=col>&lt;dbl&gt;</th><th scope=col>&lt;dbl&gt;</th><th scope=col>&lt;dbl&gt;</th><th scope=col>&lt;dbl&gt;</th><th scope=col>&lt;dbl&gt;</th><th scope=col>&lt;lgl&gt;</th></tr>\n",
       "</thead>\n",
       "<tbody>\n",
       "\t<tr><td>Brisbane</td><td>32</td><td>A</td><td>20181231</td><td>Kei Nishikori  </td><td>2</td><td>178</td><td>JPN</td><td>29.00479</td><td>6-4 3-6 6-2</td><td>⋯</td><td>77</td><td>44</td><td>31</td><td>17</td><td>13</td><td>3</td><td>6</td><td> 9</td><td>3590</td><td>TRUE</td></tr>\n",
       "\t<tr><td>Brisbane</td><td>32</td><td>A</td><td>20181231</td><td>Daniil Medvedev</td><td>2</td><td> NA</td><td>RUS</td><td>22.88569</td><td>7-6(6) 6-2 </td><td>⋯</td><td>52</td><td>33</td><td>28</td><td>14</td><td>10</td><td>0</td><td>1</td><td>16</td><td>1977</td><td>TRUE</td></tr>\n",
       "\t<tr><td>Brisbane</td><td>32</td><td>A</td><td>20181231</td><td>Kei Nishikori  </td><td>2</td><td>178</td><td>JPN</td><td>29.00479</td><td>6-2 6-2    </td><td>⋯</td><td>47</td><td>33</td><td>26</td><td> 9</td><td> 8</td><td>2</td><td>2</td><td> 9</td><td>3590</td><td>TRUE</td></tr>\n",
       "\t<tr><td>⋮</td><td>⋮</td><td>⋮</td><td>⋮</td><td>⋮</td><td>⋮</td><td>⋮</td><td>⋮</td><td>⋮</td><td>⋮</td><td>⋱</td><td>⋮</td><td>⋮</td><td>⋮</td><td>⋮</td><td>⋮</td><td>⋮</td><td>⋮</td><td>⋮</td><td>⋮</td><td>⋮</td></tr>\n",
       "\t<tr><td>Davis Cup WG F: FRA vs CRO</td><td>4</td><td>D</td><td>20181123</td><td>Borna Coric</td><td>2</td><td> NA</td><td>CRO</td><td>22.01232</td><td>6-2 7-5 6-4   </td><td>⋯</td><td>78</td><td>59</td><td>47</td><td>15</td><td>15</td><td>2</td><td>2</td><td>12</td><td>2480</td><td>TRUE</td></tr>\n",
       "\t<tr><td>Davis Cup WG F: FRA vs CRO</td><td>4</td><td>D</td><td>20181123</td><td>Marin Cilic</td><td>2</td><td>198</td><td>CRO</td><td>30.14100</td><td>6-3 7-5 6-4   </td><td>⋯</td><td>86</td><td>53</td><td>48</td><td>20</td><td>16</td><td>5</td><td>5</td><td> 7</td><td>4250</td><td>TRUE</td></tr>\n",
       "\t<tr><td>Davis Cup WG F: FRA vs CRO</td><td>4</td><td>D</td><td>20181123</td><td>Marin Cilic</td><td>2</td><td>198</td><td>CRO</td><td>30.14100</td><td>7-6(3) 6-3 6-3</td><td>⋯</td><td>83</td><td>44</td><td>39</td><td>26</td><td>15</td><td>0</td><td>0</td><td> 7</td><td>4250</td><td>TRUE</td></tr>\n",
       "</tbody>\n",
       "</table>\n"
      ],
      "text/latex": [
       "A tibble: 2418 × 23\n",
       "\\begin{tabular}{lllllllllllllllllllll}\n",
       " tourney\\_name & draw\\_size & tourney\\_level & tourney\\_date & winner\\_name & winner\\_hand & winner\\_ht & winner\\_ioc & winner\\_age & score & ⋯ & w\\_svpt & w\\_1stIn & w\\_1stWon & w\\_2ndWon & w\\_SvGms & w\\_bpSaved & w\\_bpFaced & winner\\_rank & winner\\_rank\\_points & na.rm\\\\\n",
       " <chr> & <dbl> & <chr> & <dbl> & <chr> & <int> & <dbl> & <chr> & <dbl> & <chr> & ⋯ & <dbl> & <dbl> & <dbl> & <dbl> & <dbl> & <dbl> & <dbl> & <dbl> & <dbl> & <lgl>\\\\\n",
       "\\hline\n",
       "\t Brisbane & 32 & A & 20181231 & Kei Nishikori   & 2 & 178 & JPN & 29.00479 & 6-4 3-6 6-2 & ⋯ & 77 & 44 & 31 & 17 & 13 & 3 & 6 &  9 & 3590 & TRUE\\\\\n",
       "\t Brisbane & 32 & A & 20181231 & Daniil Medvedev & 2 &  NA & RUS & 22.88569 & 7-6(6) 6-2  & ⋯ & 52 & 33 & 28 & 14 & 10 & 0 & 1 & 16 & 1977 & TRUE\\\\\n",
       "\t Brisbane & 32 & A & 20181231 & Kei Nishikori   & 2 & 178 & JPN & 29.00479 & 6-2 6-2     & ⋯ & 47 & 33 & 26 &  9 &  8 & 2 & 2 &  9 & 3590 & TRUE\\\\\n",
       "\t ⋮ & ⋮ & ⋮ & ⋮ & ⋮ & ⋮ & ⋮ & ⋮ & ⋮ & ⋮ & ⋱ & ⋮ & ⋮ & ⋮ & ⋮ & ⋮ & ⋮ & ⋮ & ⋮ & ⋮ & ⋮\\\\\n",
       "\t Davis Cup WG F: FRA vs CRO & 4 & D & 20181123 & Borna Coric & 2 &  NA & CRO & 22.01232 & 6-2 7-5 6-4    & ⋯ & 78 & 59 & 47 & 15 & 15 & 2 & 2 & 12 & 2480 & TRUE\\\\\n",
       "\t Davis Cup WG F: FRA vs CRO & 4 & D & 20181123 & Marin Cilic & 2 & 198 & CRO & 30.14100 & 6-3 7-5 6-4    & ⋯ & 86 & 53 & 48 & 20 & 16 & 5 & 5 &  7 & 4250 & TRUE\\\\\n",
       "\t Davis Cup WG F: FRA vs CRO & 4 & D & 20181123 & Marin Cilic & 2 & 198 & CRO & 30.14100 & 7-6(3) 6-3 6-3 & ⋯ & 83 & 44 & 39 & 26 & 15 & 0 & 0 &  7 & 4250 & TRUE\\\\\n",
       "\\end{tabular}\n"
      ],
      "text/markdown": [
       "\n",
       "A tibble: 2418 × 23\n",
       "\n",
       "| tourney_name &lt;chr&gt; | draw_size &lt;dbl&gt; | tourney_level &lt;chr&gt; | tourney_date &lt;dbl&gt; | winner_name &lt;chr&gt; | winner_hand &lt;int&gt; | winner_ht &lt;dbl&gt; | winner_ioc &lt;chr&gt; | winner_age &lt;dbl&gt; | score &lt;chr&gt; | ⋯ ⋯ | w_svpt &lt;dbl&gt; | w_1stIn &lt;dbl&gt; | w_1stWon &lt;dbl&gt; | w_2ndWon &lt;dbl&gt; | w_SvGms &lt;dbl&gt; | w_bpSaved &lt;dbl&gt; | w_bpFaced &lt;dbl&gt; | winner_rank &lt;dbl&gt; | winner_rank_points &lt;dbl&gt; | na.rm &lt;lgl&gt; |\n",
       "|---|---|---|---|---|---|---|---|---|---|---|---|---|---|---|---|---|---|---|---|---|\n",
       "| Brisbane | 32 | A | 20181231 | Kei Nishikori   | 2 | 178 | JPN | 29.00479 | 6-4 3-6 6-2 | ⋯ | 77 | 44 | 31 | 17 | 13 | 3 | 6 |  9 | 3590 | TRUE |\n",
       "| Brisbane | 32 | A | 20181231 | Daniil Medvedev | 2 |  NA | RUS | 22.88569 | 7-6(6) 6-2  | ⋯ | 52 | 33 | 28 | 14 | 10 | 0 | 1 | 16 | 1977 | TRUE |\n",
       "| Brisbane | 32 | A | 20181231 | Kei Nishikori   | 2 | 178 | JPN | 29.00479 | 6-2 6-2     | ⋯ | 47 | 33 | 26 |  9 |  8 | 2 | 2 |  9 | 3590 | TRUE |\n",
       "| ⋮ | ⋮ | ⋮ | ⋮ | ⋮ | ⋮ | ⋮ | ⋮ | ⋮ | ⋮ | ⋱ | ⋮ | ⋮ | ⋮ | ⋮ | ⋮ | ⋮ | ⋮ | ⋮ | ⋮ | ⋮ |\n",
       "| Davis Cup WG F: FRA vs CRO | 4 | D | 20181123 | Borna Coric | 2 |  NA | CRO | 22.01232 | 6-2 7-5 6-4    | ⋯ | 78 | 59 | 47 | 15 | 15 | 2 | 2 | 12 | 2480 | TRUE |\n",
       "| Davis Cup WG F: FRA vs CRO | 4 | D | 20181123 | Marin Cilic | 2 | 198 | CRO | 30.14100 | 6-3 7-5 6-4    | ⋯ | 86 | 53 | 48 | 20 | 16 | 5 | 5 |  7 | 4250 | TRUE |\n",
       "| Davis Cup WG F: FRA vs CRO | 4 | D | 20181123 | Marin Cilic | 2 | 198 | CRO | 30.14100 | 7-6(3) 6-3 6-3 | ⋯ | 83 | 44 | 39 | 26 | 15 | 0 | 0 |  7 | 4250 | TRUE |\n",
       "\n"
      ],
      "text/plain": [
       "     tourney_name               draw_size tourney_level tourney_date\n",
       "1    Brisbane                   32        A             20181231    \n",
       "2    Brisbane                   32        A             20181231    \n",
       "3    Brisbane                   32        A             20181231    \n",
       "⋮    ⋮                          ⋮         ⋮             ⋮           \n",
       "2416 Davis Cup WG F: FRA vs CRO 4         D             20181123    \n",
       "2417 Davis Cup WG F: FRA vs CRO 4         D             20181123    \n",
       "2418 Davis Cup WG F: FRA vs CRO 4         D             20181123    \n",
       "     winner_name     winner_hand winner_ht winner_ioc winner_age score         \n",
       "1    Kei Nishikori   2           178       JPN        29.00479   6-4 3-6 6-2   \n",
       "2    Daniil Medvedev 2            NA       RUS        22.88569   7-6(6) 6-2    \n",
       "3    Kei Nishikori   2           178       JPN        29.00479   6-2 6-2       \n",
       "⋮    ⋮               ⋮           ⋮         ⋮          ⋮          ⋮             \n",
       "2416 Borna Coric     2            NA       CRO        22.01232   6-2 7-5 6-4   \n",
       "2417 Marin Cilic     2           198       CRO        30.14100   6-3 7-5 6-4   \n",
       "2418 Marin Cilic     2           198       CRO        30.14100   7-6(3) 6-3 6-3\n",
       "     ⋯ w_svpt w_1stIn w_1stWon w_2ndWon w_SvGms w_bpSaved w_bpFaced winner_rank\n",
       "1    ⋯ 77     44      31       17       13      3         6          9         \n",
       "2    ⋯ 52     33      28       14       10      0         1         16         \n",
       "3    ⋯ 47     33      26        9        8      2         2          9         \n",
       "⋮    ⋱ ⋮      ⋮       ⋮        ⋮        ⋮       ⋮         ⋮         ⋮          \n",
       "2416 ⋯ 78     59      47       15       15      2         2         12         \n",
       "2417 ⋯ 86     53      48       20       16      5         5          7         \n",
       "2418 ⋯ 83     44      39       26       15      0         0          7         \n",
       "     winner_rank_points na.rm\n",
       "1    3590               TRUE \n",
       "2    1977               TRUE \n",
       "3    3590               TRUE \n",
       "⋮    ⋮                  ⋮    \n",
       "2416 2480               TRUE \n",
       "2417 4250               TRUE \n",
       "2418 4250               TRUE "
      ]
     },
     "metadata": {},
     "output_type": "display_data"
    }
   ],
   "source": [
    "tennis <- filter(tennis, substr(tourney_date, 0, 4) == \"2018\")\n",
    "tennis <- mutate(tennis, winner_hand = as.integer(as.factor(winner_hand)), na.rm = TRUE)\n",
    "tennis"
   ]
  },
  {
   "cell_type": "markdown",
   "metadata": {},
   "source": [
    "#### **Group By Player Name**"
   ]
  },
  {
   "cell_type": "code",
   "execution_count": 10,
   "metadata": {},
   "outputs": [
    {
     "name": "stderr",
     "output_type": "stream",
     "text": [
      "`summarise()` ungrouping output (override with `.groups` argument)\n",
      "\n"
     ]
    },
    {
     "data": {
      "text/html": [
       "<table>\n",
       "<caption>A tibble: 182 × 13</caption>\n",
       "<thead>\n",
       "\t<tr><th scope=col>winner_name</th><th scope=col>winner_rank</th><th scope=col>winner_age</th><th scope=col>winner_hand</th><th scope=col>w_ace</th><th scope=col>w_df</th><th scope=col>w_svpt</th><th scope=col>w_1stIn</th><th scope=col>w_1stWon</th><th scope=col>w_2ndWon</th><th scope=col>w_SvGms</th><th scope=col>w_bpSaved</th><th scope=col>w_bpFaced</th></tr>\n",
       "\t<tr><th scope=col>&lt;chr&gt;</th><th scope=col>&lt;dbl&gt;</th><th scope=col>&lt;dbl&gt;</th><th scope=col>&lt;dbl&gt;</th><th scope=col>&lt;dbl&gt;</th><th scope=col>&lt;dbl&gt;</th><th scope=col>&lt;dbl&gt;</th><th scope=col>&lt;dbl&gt;</th><th scope=col>&lt;dbl&gt;</th><th scope=col>&lt;dbl&gt;</th><th scope=col>&lt;dbl&gt;</th><th scope=col>&lt;dbl&gt;</th><th scope=col>&lt;dbl&gt;</th></tr>\n",
       "</thead>\n",
       "<tbody>\n",
       "\t<tr><td>Adam Pavlasek           </td><td>196.50</td><td>23.55921</td><td>2</td><td>10.00</td><td>3.00</td><td>101.0</td><td>72.50</td><td>52.50</td><td>17.50</td><td>16.50</td><td>4.00</td><td>5.00</td></tr>\n",
       "\t<tr><td>Adrian Mannarino        </td><td> 30.24</td><td>29.98768</td><td>1</td><td> 6.76</td><td>2.56</td><td> 86.4</td><td>53.96</td><td>40.12</td><td>18.68</td><td>14.08</td><td>3.68</td><td>5.52</td></tr>\n",
       "\t<tr><td>Adrian Menendez Maceiras</td><td>128.00</td><td>32.29295</td><td>2</td><td> 7.50</td><td>1.50</td><td> 89.0</td><td>63.00</td><td>41.00</td><td>15.50</td><td>13.00</td><td>6.00</td><td>8.50</td></tr>\n",
       "\t<tr><td>⋮</td><td>⋮</td><td>⋮</td><td>⋮</td><td>⋮</td><td>⋮</td><td>⋮</td><td>⋮</td><td>⋮</td><td>⋮</td><td>⋮</td><td>⋮</td><td>⋮</td></tr>\n",
       "\t<tr><td>Yuichi Sugita</td><td> 46.71429</td><td>29.72758</td><td>2</td><td> 5.571429</td><td>3</td><td> 82.71429</td><td> 51.42857</td><td>40</td><td>16.57143</td><td>13.28571</td><td>4.142857</td><td> 5.714286</td></tr>\n",
       "\t<tr><td>Ze Zhang     </td><td>247.00000</td><td>27.74538</td><td>2</td><td> 4.000000</td><td>4</td><td> 54.00000</td><td> 35.00000</td><td>25</td><td>10.00000</td><td> 9.00000</td><td>4.000000</td><td> 6.000000</td></tr>\n",
       "\t<tr><td>Zsombor Piros</td><td>419.00000</td><td>18.91034</td><td>3</td><td>12.000000</td><td>2</td><td>159.00000</td><td>102.00000</td><td>73</td><td>30.00000</td><td>27.00000</td><td>7.000000</td><td>12.000000</td></tr>\n",
       "</tbody>\n",
       "</table>\n"
      ],
      "text/latex": [
       "A tibble: 182 × 13\n",
       "\\begin{tabular}{lllllllllllll}\n",
       " winner\\_name & winner\\_rank & winner\\_age & winner\\_hand & w\\_ace & w\\_df & w\\_svpt & w\\_1stIn & w\\_1stWon & w\\_2ndWon & w\\_SvGms & w\\_bpSaved & w\\_bpFaced\\\\\n",
       " <chr> & <dbl> & <dbl> & <dbl> & <dbl> & <dbl> & <dbl> & <dbl> & <dbl> & <dbl> & <dbl> & <dbl> & <dbl>\\\\\n",
       "\\hline\n",
       "\t Adam Pavlasek            & 196.50 & 23.55921 & 2 & 10.00 & 3.00 & 101.0 & 72.50 & 52.50 & 17.50 & 16.50 & 4.00 & 5.00\\\\\n",
       "\t Adrian Mannarino         &  30.24 & 29.98768 & 1 &  6.76 & 2.56 &  86.4 & 53.96 & 40.12 & 18.68 & 14.08 & 3.68 & 5.52\\\\\n",
       "\t Adrian Menendez Maceiras & 128.00 & 32.29295 & 2 &  7.50 & 1.50 &  89.0 & 63.00 & 41.00 & 15.50 & 13.00 & 6.00 & 8.50\\\\\n",
       "\t ⋮ & ⋮ & ⋮ & ⋮ & ⋮ & ⋮ & ⋮ & ⋮ & ⋮ & ⋮ & ⋮ & ⋮ & ⋮\\\\\n",
       "\t Yuichi Sugita &  46.71429 & 29.72758 & 2 &  5.571429 & 3 &  82.71429 &  51.42857 & 40 & 16.57143 & 13.28571 & 4.142857 &  5.714286\\\\\n",
       "\t Ze Zhang      & 247.00000 & 27.74538 & 2 &  4.000000 & 4 &  54.00000 &  35.00000 & 25 & 10.00000 &  9.00000 & 4.000000 &  6.000000\\\\\n",
       "\t Zsombor Piros & 419.00000 & 18.91034 & 3 & 12.000000 & 2 & 159.00000 & 102.00000 & 73 & 30.00000 & 27.00000 & 7.000000 & 12.000000\\\\\n",
       "\\end{tabular}\n"
      ],
      "text/markdown": [
       "\n",
       "A tibble: 182 × 13\n",
       "\n",
       "| winner_name &lt;chr&gt; | winner_rank &lt;dbl&gt; | winner_age &lt;dbl&gt; | winner_hand &lt;dbl&gt; | w_ace &lt;dbl&gt; | w_df &lt;dbl&gt; | w_svpt &lt;dbl&gt; | w_1stIn &lt;dbl&gt; | w_1stWon &lt;dbl&gt; | w_2ndWon &lt;dbl&gt; | w_SvGms &lt;dbl&gt; | w_bpSaved &lt;dbl&gt; | w_bpFaced &lt;dbl&gt; |\n",
       "|---|---|---|---|---|---|---|---|---|---|---|---|---|\n",
       "| Adam Pavlasek            | 196.50 | 23.55921 | 2 | 10.00 | 3.00 | 101.0 | 72.50 | 52.50 | 17.50 | 16.50 | 4.00 | 5.00 |\n",
       "| Adrian Mannarino         |  30.24 | 29.98768 | 1 |  6.76 | 2.56 |  86.4 | 53.96 | 40.12 | 18.68 | 14.08 | 3.68 | 5.52 |\n",
       "| Adrian Menendez Maceiras | 128.00 | 32.29295 | 2 |  7.50 | 1.50 |  89.0 | 63.00 | 41.00 | 15.50 | 13.00 | 6.00 | 8.50 |\n",
       "| ⋮ | ⋮ | ⋮ | ⋮ | ⋮ | ⋮ | ⋮ | ⋮ | ⋮ | ⋮ | ⋮ | ⋮ | ⋮ |\n",
       "| Yuichi Sugita |  46.71429 | 29.72758 | 2 |  5.571429 | 3 |  82.71429 |  51.42857 | 40 | 16.57143 | 13.28571 | 4.142857 |  5.714286 |\n",
       "| Ze Zhang      | 247.00000 | 27.74538 | 2 |  4.000000 | 4 |  54.00000 |  35.00000 | 25 | 10.00000 |  9.00000 | 4.000000 |  6.000000 |\n",
       "| Zsombor Piros | 419.00000 | 18.91034 | 3 | 12.000000 | 2 | 159.00000 | 102.00000 | 73 | 30.00000 | 27.00000 | 7.000000 | 12.000000 |\n",
       "\n"
      ],
      "text/plain": [
       "    winner_name              winner_rank winner_age winner_hand w_ace     w_df\n",
       "1   Adam Pavlasek            196.50      23.55921   2           10.00     3.00\n",
       "2   Adrian Mannarino          30.24      29.98768   1            6.76     2.56\n",
       "3   Adrian Menendez Maceiras 128.00      32.29295   2            7.50     1.50\n",
       "⋮   ⋮                        ⋮           ⋮          ⋮           ⋮         ⋮   \n",
       "180 Yuichi Sugita             46.71429   29.72758   2            5.571429 3   \n",
       "181 Ze Zhang                 247.00000   27.74538   2            4.000000 4   \n",
       "182 Zsombor Piros            419.00000   18.91034   3           12.000000 2   \n",
       "    w_svpt    w_1stIn   w_1stWon w_2ndWon w_SvGms  w_bpSaved w_bpFaced\n",
       "1   101.0     72.50     52.50    17.50    16.50    4.00      5.00     \n",
       "2    86.4     53.96     40.12    18.68    14.08    3.68      5.52     \n",
       "3    89.0     63.00     41.00    15.50    13.00    6.00      8.50     \n",
       "⋮   ⋮         ⋮         ⋮        ⋮        ⋮        ⋮         ⋮        \n",
       "180  82.71429  51.42857 40       16.57143 13.28571 4.142857   5.714286\n",
       "181  54.00000  35.00000 25       10.00000  9.00000 4.000000   6.000000\n",
       "182 159.00000 102.00000 73       30.00000 27.00000 7.000000  12.000000"
      ]
     },
     "metadata": {},
     "output_type": "display_data"
    }
   ],
   "source": [
    "player_stats <- group_by(tennis, winner_name) %>% \n",
    "    summarize(winner_rank = mean(winner_rank), winner_age = median(winner_age), winner_hand = mean(winner_hand), w_ace = mean(w_ace), w_df = mean(w_df), w_svpt = mean(w_svpt), w_1stIn = mean(w_1stIn), w_1stWon = mean(w_1stWon), w_2ndWon = mean(w_2ndWon), w_SvGms = mean(w_SvGms), w_bpSaved = mean(w_bpSaved), w_bpFaced = mean(w_bpFaced)) %>% \n",
    "    na.omit(player_stats)\n",
    "\n",
    "player_stats"
   ]
  },
  {
   "cell_type": "markdown",
   "metadata": {},
   "source": [
    "### **Splitting the Data into Training and Testing Set**"
   ]
  },
  {
   "cell_type": "code",
   "execution_count": 14,
   "metadata": {},
   "outputs": [
    {
     "data": {
      "text/html": [
       "<table>\n",
       "<caption>A tibble: 44 × 13</caption>\n",
       "<thead>\n",
       "\t<tr><th scope=col>winner_name</th><th scope=col>winner_rank</th><th scope=col>winner_age</th><th scope=col>winner_hand</th><th scope=col>w_ace</th><th scope=col>w_df</th><th scope=col>w_svpt</th><th scope=col>w_1stIn</th><th scope=col>w_1stWon</th><th scope=col>w_2ndWon</th><th scope=col>w_SvGms</th><th scope=col>w_bpSaved</th><th scope=col>w_bpFaced</th></tr>\n",
       "\t<tr><th scope=col>&lt;chr&gt;</th><th scope=col>&lt;dbl&gt;</th><th scope=col>&lt;dbl&gt;</th><th scope=col>&lt;dbl&gt;</th><th scope=col>&lt;dbl&gt;</th><th scope=col>&lt;dbl&gt;</th><th scope=col>&lt;dbl&gt;</th><th scope=col>&lt;dbl&gt;</th><th scope=col>&lt;dbl&gt;</th><th scope=col>&lt;dbl&gt;</th><th scope=col>&lt;dbl&gt;</th><th scope=col>&lt;dbl&gt;</th><th scope=col>&lt;dbl&gt;</th></tr>\n",
       "</thead>\n",
       "<tbody>\n",
       "\t<tr><td>Adam Pavlasek     </td><td>196.5</td><td>23.55921</td><td>2</td><td>10.000000</td><td>3.000000</td><td>101</td><td>72.5</td><td>52.5</td><td>17.50000</td><td>16.5</td><td>4.000000</td><td>5.000000</td></tr>\n",
       "\t<tr><td>Alejandro Gonzalez</td><td>328.0</td><td>28.97467</td><td>2</td><td> 3.000000</td><td>2.000000</td><td> 66</td><td>44.0</td><td>29.0</td><td>11.00000</td><td>11.0</td><td>4.000000</td><td>7.000000</td></tr>\n",
       "\t<tr><td>Andrej Martin     </td><td>156.0</td><td>28.37782</td><td>2</td><td> 3.666667</td><td>2.666667</td><td> 63</td><td>38.0</td><td>28.0</td><td>13.66667</td><td>10.0</td><td>5.666667</td><td>7.333333</td></tr>\n",
       "\t<tr><td>⋮</td><td>⋮</td><td>⋮</td><td>⋮</td><td>⋮</td><td>⋮</td><td>⋮</td><td>⋮</td><td>⋮</td><td>⋮</td><td>⋮</td><td>⋮</td><td>⋮</td></tr>\n",
       "\t<tr><td>Viktor Galovic    </td><td>267.0</td><td>27.84120</td><td>2</td><td> 5.0</td><td>4.0</td><td>90.5</td><td>54.0</td><td>38.5</td><td>18.0</td><td>13.5</td><td>3.5</td><td>5.5</td></tr>\n",
       "\t<tr><td>Yoshihito Nishioka</td><td>206.1</td><td>22.97331</td><td>1</td><td> 1.2</td><td>1.8</td><td>80.0</td><td>56.5</td><td>37.6</td><td>13.1</td><td>12.6</td><td>3.9</td><td>6.7</td></tr>\n",
       "\t<tr><td>Yosuke Watanuki   </td><td>273.0</td><td>20.47091</td><td>3</td><td>10.0</td><td>2.0</td><td>78.0</td><td>44.0</td><td>33.0</td><td>22.0</td><td>14.0</td><td>0.0</td><td>3.0</td></tr>\n",
       "</tbody>\n",
       "</table>\n"
      ],
      "text/latex": [
       "A tibble: 44 × 13\n",
       "\\begin{tabular}{lllllllllllll}\n",
       " winner\\_name & winner\\_rank & winner\\_age & winner\\_hand & w\\_ace & w\\_df & w\\_svpt & w\\_1stIn & w\\_1stWon & w\\_2ndWon & w\\_SvGms & w\\_bpSaved & w\\_bpFaced\\\\\n",
       " <chr> & <dbl> & <dbl> & <dbl> & <dbl> & <dbl> & <dbl> & <dbl> & <dbl> & <dbl> & <dbl> & <dbl> & <dbl>\\\\\n",
       "\\hline\n",
       "\t Adam Pavlasek      & 196.5 & 23.55921 & 2 & 10.000000 & 3.000000 & 101 & 72.5 & 52.5 & 17.50000 & 16.5 & 4.000000 & 5.000000\\\\\n",
       "\t Alejandro Gonzalez & 328.0 & 28.97467 & 2 &  3.000000 & 2.000000 &  66 & 44.0 & 29.0 & 11.00000 & 11.0 & 4.000000 & 7.000000\\\\\n",
       "\t Andrej Martin      & 156.0 & 28.37782 & 2 &  3.666667 & 2.666667 &  63 & 38.0 & 28.0 & 13.66667 & 10.0 & 5.666667 & 7.333333\\\\\n",
       "\t ⋮ & ⋮ & ⋮ & ⋮ & ⋮ & ⋮ & ⋮ & ⋮ & ⋮ & ⋮ & ⋮ & ⋮ & ⋮\\\\\n",
       "\t Viktor Galovic     & 267.0 & 27.84120 & 2 &  5.0 & 4.0 & 90.5 & 54.0 & 38.5 & 18.0 & 13.5 & 3.5 & 5.5\\\\\n",
       "\t Yoshihito Nishioka & 206.1 & 22.97331 & 1 &  1.2 & 1.8 & 80.0 & 56.5 & 37.6 & 13.1 & 12.6 & 3.9 & 6.7\\\\\n",
       "\t Yosuke Watanuki    & 273.0 & 20.47091 & 3 & 10.0 & 2.0 & 78.0 & 44.0 & 33.0 & 22.0 & 14.0 & 0.0 & 3.0\\\\\n",
       "\\end{tabular}\n"
      ],
      "text/markdown": [
       "\n",
       "A tibble: 44 × 13\n",
       "\n",
       "| winner_name &lt;chr&gt; | winner_rank &lt;dbl&gt; | winner_age &lt;dbl&gt; | winner_hand &lt;dbl&gt; | w_ace &lt;dbl&gt; | w_df &lt;dbl&gt; | w_svpt &lt;dbl&gt; | w_1stIn &lt;dbl&gt; | w_1stWon &lt;dbl&gt; | w_2ndWon &lt;dbl&gt; | w_SvGms &lt;dbl&gt; | w_bpSaved &lt;dbl&gt; | w_bpFaced &lt;dbl&gt; |\n",
       "|---|---|---|---|---|---|---|---|---|---|---|---|---|\n",
       "| Adam Pavlasek      | 196.5 | 23.55921 | 2 | 10.000000 | 3.000000 | 101 | 72.5 | 52.5 | 17.50000 | 16.5 | 4.000000 | 5.000000 |\n",
       "| Alejandro Gonzalez | 328.0 | 28.97467 | 2 |  3.000000 | 2.000000 |  66 | 44.0 | 29.0 | 11.00000 | 11.0 | 4.000000 | 7.000000 |\n",
       "| Andrej Martin      | 156.0 | 28.37782 | 2 |  3.666667 | 2.666667 |  63 | 38.0 | 28.0 | 13.66667 | 10.0 | 5.666667 | 7.333333 |\n",
       "| ⋮ | ⋮ | ⋮ | ⋮ | ⋮ | ⋮ | ⋮ | ⋮ | ⋮ | ⋮ | ⋮ | ⋮ | ⋮ |\n",
       "| Viktor Galovic     | 267.0 | 27.84120 | 2 |  5.0 | 4.0 | 90.5 | 54.0 | 38.5 | 18.0 | 13.5 | 3.5 | 5.5 |\n",
       "| Yoshihito Nishioka | 206.1 | 22.97331 | 1 |  1.2 | 1.8 | 80.0 | 56.5 | 37.6 | 13.1 | 12.6 | 3.9 | 6.7 |\n",
       "| Yosuke Watanuki    | 273.0 | 20.47091 | 3 | 10.0 | 2.0 | 78.0 | 44.0 | 33.0 | 22.0 | 14.0 | 0.0 | 3.0 |\n",
       "\n"
      ],
      "text/plain": [
       "   winner_name        winner_rank winner_age winner_hand w_ace     w_df    \n",
       "1  Adam Pavlasek      196.5       23.55921   2           10.000000 3.000000\n",
       "2  Alejandro Gonzalez 328.0       28.97467   2            3.000000 2.000000\n",
       "3  Andrej Martin      156.0       28.37782   2            3.666667 2.666667\n",
       "⋮  ⋮                  ⋮           ⋮          ⋮           ⋮         ⋮       \n",
       "42 Viktor Galovic     267.0       27.84120   2            5.0      4.0     \n",
       "43 Yoshihito Nishioka 206.1       22.97331   1            1.2      1.8     \n",
       "44 Yosuke Watanuki    273.0       20.47091   3           10.0      2.0     \n",
       "   w_svpt w_1stIn w_1stWon w_2ndWon w_SvGms w_bpSaved w_bpFaced\n",
       "1  101    72.5    52.5     17.50000 16.5    4.000000  5.000000 \n",
       "2   66    44.0    29.0     11.00000 11.0    4.000000  7.000000 \n",
       "3   63    38.0    28.0     13.66667 10.0    5.666667  7.333333 \n",
       "⋮  ⋮      ⋮       ⋮        ⋮        ⋮       ⋮         ⋮        \n",
       "42 90.5   54.0    38.5     18.0     13.5    3.5       5.5      \n",
       "43 80.0   56.5    37.6     13.1     12.6    3.9       6.7      \n",
       "44 78.0   44.0    33.0     22.0     14.0    0.0       3.0      "
      ]
     },
     "metadata": {},
     "output_type": "display_data"
    },
    {
     "data": {
      "text/html": [
       "<table>\n",
       "<caption>A tibble: 138 × 13</caption>\n",
       "<thead>\n",
       "\t<tr><th scope=col>winner_name</th><th scope=col>winner_rank</th><th scope=col>winner_age</th><th scope=col>winner_hand</th><th scope=col>w_ace</th><th scope=col>w_df</th><th scope=col>w_svpt</th><th scope=col>w_1stIn</th><th scope=col>w_1stWon</th><th scope=col>w_2ndWon</th><th scope=col>w_SvGms</th><th scope=col>w_bpSaved</th><th scope=col>w_bpFaced</th></tr>\n",
       "\t<tr><th scope=col>&lt;chr&gt;</th><th scope=col>&lt;dbl&gt;</th><th scope=col>&lt;dbl&gt;</th><th scope=col>&lt;dbl&gt;</th><th scope=col>&lt;dbl&gt;</th><th scope=col>&lt;dbl&gt;</th><th scope=col>&lt;dbl&gt;</th><th scope=col>&lt;dbl&gt;</th><th scope=col>&lt;dbl&gt;</th><th scope=col>&lt;dbl&gt;</th><th scope=col>&lt;dbl&gt;</th><th scope=col>&lt;dbl&gt;</th><th scope=col>&lt;dbl&gt;</th></tr>\n",
       "</thead>\n",
       "<tbody>\n",
       "\t<tr><td>Adrian Mannarino        </td><td> 30.240</td><td>29.98768</td><td>1</td><td>6.7600</td><td>2.56</td><td>86.4</td><td>53.960</td><td>40.1200</td><td>18.68</td><td>14.080</td><td>3.6800</td><td>5.520</td></tr>\n",
       "\t<tr><td>Adrian Menendez Maceiras</td><td>128.000</td><td>32.29295</td><td>2</td><td>7.5000</td><td>1.50</td><td>89.0</td><td>63.000</td><td>41.0000</td><td>15.50</td><td>13.000</td><td>6.0000</td><td>8.500</td></tr>\n",
       "\t<tr><td>Albert Ramos            </td><td> 33.875</td><td>30.28337</td><td>1</td><td>4.9375</td><td>3.25</td><td>92.5</td><td>58.125</td><td>42.8125</td><td>19.00</td><td>14.875</td><td>3.6875</td><td>6.125</td></tr>\n",
       "\t<tr><td>⋮</td><td>⋮</td><td>⋮</td><td>⋮</td><td>⋮</td><td>⋮</td><td>⋮</td><td>⋮</td><td>⋮</td><td>⋮</td><td>⋮</td><td>⋮</td><td>⋮</td></tr>\n",
       "\t<tr><td>Yuichi Sugita</td><td> 46.71429</td><td>29.72758</td><td>2</td><td> 5.571429</td><td>3</td><td> 82.71429</td><td> 51.42857</td><td>40</td><td>16.57143</td><td>13.28571</td><td>4.142857</td><td> 5.714286</td></tr>\n",
       "\t<tr><td>Ze Zhang     </td><td>247.00000</td><td>27.74538</td><td>2</td><td> 4.000000</td><td>4</td><td> 54.00000</td><td> 35.00000</td><td>25</td><td>10.00000</td><td> 9.00000</td><td>4.000000</td><td> 6.000000</td></tr>\n",
       "\t<tr><td>Zsombor Piros</td><td>419.00000</td><td>18.91034</td><td>3</td><td>12.000000</td><td>2</td><td>159.00000</td><td>102.00000</td><td>73</td><td>30.00000</td><td>27.00000</td><td>7.000000</td><td>12.000000</td></tr>\n",
       "</tbody>\n",
       "</table>\n"
      ],
      "text/latex": [
       "A tibble: 138 × 13\n",
       "\\begin{tabular}{lllllllllllll}\n",
       " winner\\_name & winner\\_rank & winner\\_age & winner\\_hand & w\\_ace & w\\_df & w\\_svpt & w\\_1stIn & w\\_1stWon & w\\_2ndWon & w\\_SvGms & w\\_bpSaved & w\\_bpFaced\\\\\n",
       " <chr> & <dbl> & <dbl> & <dbl> & <dbl> & <dbl> & <dbl> & <dbl> & <dbl> & <dbl> & <dbl> & <dbl> & <dbl>\\\\\n",
       "\\hline\n",
       "\t Adrian Mannarino         &  30.240 & 29.98768 & 1 & 6.7600 & 2.56 & 86.4 & 53.960 & 40.1200 & 18.68 & 14.080 & 3.6800 & 5.520\\\\\n",
       "\t Adrian Menendez Maceiras & 128.000 & 32.29295 & 2 & 7.5000 & 1.50 & 89.0 & 63.000 & 41.0000 & 15.50 & 13.000 & 6.0000 & 8.500\\\\\n",
       "\t Albert Ramos             &  33.875 & 30.28337 & 1 & 4.9375 & 3.25 & 92.5 & 58.125 & 42.8125 & 19.00 & 14.875 & 3.6875 & 6.125\\\\\n",
       "\t ⋮ & ⋮ & ⋮ & ⋮ & ⋮ & ⋮ & ⋮ & ⋮ & ⋮ & ⋮ & ⋮ & ⋮ & ⋮\\\\\n",
       "\t Yuichi Sugita &  46.71429 & 29.72758 & 2 &  5.571429 & 3 &  82.71429 &  51.42857 & 40 & 16.57143 & 13.28571 & 4.142857 &  5.714286\\\\\n",
       "\t Ze Zhang      & 247.00000 & 27.74538 & 2 &  4.000000 & 4 &  54.00000 &  35.00000 & 25 & 10.00000 &  9.00000 & 4.000000 &  6.000000\\\\\n",
       "\t Zsombor Piros & 419.00000 & 18.91034 & 3 & 12.000000 & 2 & 159.00000 & 102.00000 & 73 & 30.00000 & 27.00000 & 7.000000 & 12.000000\\\\\n",
       "\\end{tabular}\n"
      ],
      "text/markdown": [
       "\n",
       "A tibble: 138 × 13\n",
       "\n",
       "| winner_name &lt;chr&gt; | winner_rank &lt;dbl&gt; | winner_age &lt;dbl&gt; | winner_hand &lt;dbl&gt; | w_ace &lt;dbl&gt; | w_df &lt;dbl&gt; | w_svpt &lt;dbl&gt; | w_1stIn &lt;dbl&gt; | w_1stWon &lt;dbl&gt; | w_2ndWon &lt;dbl&gt; | w_SvGms &lt;dbl&gt; | w_bpSaved &lt;dbl&gt; | w_bpFaced &lt;dbl&gt; |\n",
       "|---|---|---|---|---|---|---|---|---|---|---|---|---|\n",
       "| Adrian Mannarino         |  30.240 | 29.98768 | 1 | 6.7600 | 2.56 | 86.4 | 53.960 | 40.1200 | 18.68 | 14.080 | 3.6800 | 5.520 |\n",
       "| Adrian Menendez Maceiras | 128.000 | 32.29295 | 2 | 7.5000 | 1.50 | 89.0 | 63.000 | 41.0000 | 15.50 | 13.000 | 6.0000 | 8.500 |\n",
       "| Albert Ramos             |  33.875 | 30.28337 | 1 | 4.9375 | 3.25 | 92.5 | 58.125 | 42.8125 | 19.00 | 14.875 | 3.6875 | 6.125 |\n",
       "| ⋮ | ⋮ | ⋮ | ⋮ | ⋮ | ⋮ | ⋮ | ⋮ | ⋮ | ⋮ | ⋮ | ⋮ | ⋮ |\n",
       "| Yuichi Sugita |  46.71429 | 29.72758 | 2 |  5.571429 | 3 |  82.71429 |  51.42857 | 40 | 16.57143 | 13.28571 | 4.142857 |  5.714286 |\n",
       "| Ze Zhang      | 247.00000 | 27.74538 | 2 |  4.000000 | 4 |  54.00000 |  35.00000 | 25 | 10.00000 |  9.00000 | 4.000000 |  6.000000 |\n",
       "| Zsombor Piros | 419.00000 | 18.91034 | 3 | 12.000000 | 2 | 159.00000 | 102.00000 | 73 | 30.00000 | 27.00000 | 7.000000 | 12.000000 |\n",
       "\n"
      ],
      "text/plain": [
       "    winner_name              winner_rank winner_age winner_hand w_ace     w_df\n",
       "1   Adrian Mannarino          30.240     29.98768   1           6.7600    2.56\n",
       "2   Adrian Menendez Maceiras 128.000     32.29295   2           7.5000    1.50\n",
       "3   Albert Ramos              33.875     30.28337   1           4.9375    3.25\n",
       "⋮   ⋮                        ⋮           ⋮          ⋮           ⋮         ⋮   \n",
       "136 Yuichi Sugita             46.71429   29.72758   2            5.571429 3   \n",
       "137 Ze Zhang                 247.00000   27.74538   2            4.000000 4   \n",
       "138 Zsombor Piros            419.00000   18.91034   3           12.000000 2   \n",
       "    w_svpt    w_1stIn   w_1stWon w_2ndWon w_SvGms  w_bpSaved w_bpFaced\n",
       "1   86.4      53.960    40.1200  18.68    14.080   3.6800    5.520    \n",
       "2   89.0      63.000    41.0000  15.50    13.000   6.0000    8.500    \n",
       "3   92.5      58.125    42.8125  19.00    14.875   3.6875    6.125    \n",
       "⋮   ⋮         ⋮         ⋮        ⋮        ⋮        ⋮         ⋮        \n",
       "136  82.71429  51.42857 40       16.57143 13.28571 4.142857   5.714286\n",
       "137  54.00000  35.00000 25       10.00000  9.00000 4.000000   6.000000\n",
       "138 159.00000 102.00000 73       30.00000 27.00000 7.000000  12.000000"
      ]
     },
     "metadata": {},
     "output_type": "display_data"
    }
   ],
   "source": [
    "set.seed(2000)\n",
    "player_split <- initial_split(player_stats, prop = 3/4, strata = winner_rank)\n",
    "player_training <- training(player_split)\n",
    "player_testing <- testing(player_split)\n",
    "\n",
    "player_testing\n",
    "player_training"
   ]
  },
  {
   "cell_type": "code",
   "execution_count": null,
   "metadata": {},
   "outputs": [],
   "source": [
    "# ggplot(player_training, aes(x = , y = ))"
   ]
  },
  {
   "cell_type": "markdown",
   "metadata": {},
   "source": [
    "<br>\n",
    "\n",
    "# **Methods**"
   ]
  },
  {
   "cell_type": "markdown",
   "metadata": {},
   "source": [
    "From the data set we will be using only the columns rank, age, height, (still need to decide other columns). We will be using regression analysis that uses data to understand how a ranking variable's value is affected when one or more independent variables change or stay the same. By understanding each variable's relationship and how they developed in the past, we will anticipate possible outcomes and make better predictions for future ranking.\n",
    "\n",
    "We will visualize the results by using graphs to find the relationship between the data. We will be using scatterplot and functions such as ggplot/ggpairs to visualize the results with future ranking on the y-axis and rest on the x-axis. \n"
   ]
  },
  {
   "cell_type": "markdown",
   "metadata": {},
   "source": [
    "<br>\n",
    "\n",
    "# **Expected Outcomes and Significance**"
   ]
  },
  {
   "cell_type": "markdown",
   "metadata": {},
   "source": [
    "It is to be expected that tennis player statistics, to a certain degree, should be able to predict their current and future rankings. In general observation, the majority of the top players will remain near the top of the rankings for the majority of their careers. It will be interesting to see if any predictors can significantly predict which players are to rise or fall in their rankings. It is expected that age, current rankings, and their previous rise in rankings over preceding years. There are also some factors that will be interesting to explore their effect on world rankings, such as physical attributes. \n",
    "\n",
    "It’ll be interesting to explore whether, and if so, the extent, the future ranking of Tennis players can be forecasted using current statistics. Although there are not any significant real world impacts that any of our findings will lead to, it will be an interesting read for any sports fans and data junkies to read and expand upon. Based on our findings, it will be interesting to explore whether there are any missing factors that could improve on our prediction model; and the result of applying our model to other sports as well.\n"
   ]
  }
 ],
 "metadata": {
  "kernelspec": {
   "display_name": "R",
   "language": "R",
   "name": "ir"
  },
  "language_info": {
   "codemirror_mode": "r",
   "file_extension": ".r",
   "mimetype": "text/x-r-source",
   "name": "R",
   "pygments_lexer": "r",
   "version": "4.0.0"
  }
 },
 "nbformat": 4,
 "nbformat_minor": 4
}
